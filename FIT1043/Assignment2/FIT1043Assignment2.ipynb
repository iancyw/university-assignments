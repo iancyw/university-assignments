{
 "cells": [
  {
   "cell_type": "markdown",
   "source": [
    "# FIT1043 Introduction to Data Science Assignment 2\n",
    "Ian WONG\n",
    "<br>\n",
    "**Student ID:** 30612616\n",
    "---\n",
    "# Question 1\n",
    "## 1. Introduction\n",
    "\n",
    "### a. Introduction\n",
    "\n",
    "In Question 1, we will be looking at a dataset containing information about borrowers that have taken a loan from an investor. Using this dataset, we are trying to create a model to predict whether or not a borrower will pay back their loan in full, based on numerous characteristics of the borrower and the loan.\n",
    "\n",
    "### b. Importing Libraries + Reading Data\n",
    "\n",
    "The first library we will be importing is **pandas**, which is used to create *DataFrames*. These dataframes allow us to manage and manipulate data more easily.\n",
    "\n",
    "The second library we will be importing is **matplotlib.pyplot**, which is used to plot and visualise data in Python.\n",
    "\n",
    "We will also be importing **numpy**, which is a package that is used for working with arrays."
   ],
   "metadata": {}
  },
  {
   "cell_type": "code",
   "execution_count": 3,
   "source": [
    "import pandas as pd\r\n",
    "import matplotlib.pyplot as plt\r\n",
    "import numpy as np"
   ],
   "outputs": [],
   "metadata": {}
  },
  {
   "cell_type": "markdown",
   "source": [
    "Using the `read_csv` command from **pandas**, we are reading the dataset from `load_data.csv`:"
   ],
   "metadata": {}
  },
  {
   "cell_type": "code",
   "execution_count": 4,
   "source": [
    "loan_data = pd.read_csv('Assignment 2Data/loan_data.csv')"
   ],
   "outputs": [],
   "metadata": {}
  },
  {
   "cell_type": "markdown",
   "source": [
    "To make sure we are reading the data in correctly, we are going to use `head()`, `tail()`, and `sample()` to check the data:"
   ],
   "metadata": {}
  },
  {
   "cell_type": "code",
   "execution_count": 6,
   "source": [
    "loan_data.head()"
   ],
   "outputs": [
    {
     "output_type": "execute_result",
     "data": {
      "text/html": [
       "<div>\n",
       "<style scoped>\n",
       "    .dataframe tbody tr th:only-of-type {\n",
       "        vertical-align: middle;\n",
       "    }\n",
       "\n",
       "    .dataframe tbody tr th {\n",
       "        vertical-align: top;\n",
       "    }\n",
       "\n",
       "    .dataframe thead th {\n",
       "        text-align: right;\n",
       "    }\n",
       "</style>\n",
       "<table border=\"1\" class=\"dataframe\">\n",
       "  <thead>\n",
       "    <tr style=\"text-align: right;\">\n",
       "      <th></th>\n",
       "      <th>credit.policy</th>\n",
       "      <th>int.rate</th>\n",
       "      <th>installment</th>\n",
       "      <th>log.annual.inc</th>\n",
       "      <th>dti</th>\n",
       "      <th>fico</th>\n",
       "      <th>days.with.cr.line</th>\n",
       "      <th>revol.bal</th>\n",
       "      <th>revol.util</th>\n",
       "      <th>inq.last.6mths</th>\n",
       "      <th>delinq.2yrs</th>\n",
       "      <th>pub.rec</th>\n",
       "      <th>not.fully.paid</th>\n",
       "    </tr>\n",
       "  </thead>\n",
       "  <tbody>\n",
       "    <tr>\n",
       "      <th>0</th>\n",
       "      <td>1</td>\n",
       "      <td>0.1189</td>\n",
       "      <td>829.10</td>\n",
       "      <td>11.350407</td>\n",
       "      <td>19.48</td>\n",
       "      <td>737</td>\n",
       "      <td>5639.958333</td>\n",
       "      <td>28854</td>\n",
       "      <td>52.1</td>\n",
       "      <td>0</td>\n",
       "      <td>0</td>\n",
       "      <td>0</td>\n",
       "      <td>0</td>\n",
       "    </tr>\n",
       "    <tr>\n",
       "      <th>1</th>\n",
       "      <td>1</td>\n",
       "      <td>0.1071</td>\n",
       "      <td>228.22</td>\n",
       "      <td>11.082143</td>\n",
       "      <td>14.29</td>\n",
       "      <td>707</td>\n",
       "      <td>2760.000000</td>\n",
       "      <td>33623</td>\n",
       "      <td>76.7</td>\n",
       "      <td>0</td>\n",
       "      <td>0</td>\n",
       "      <td>0</td>\n",
       "      <td>0</td>\n",
       "    </tr>\n",
       "    <tr>\n",
       "      <th>2</th>\n",
       "      <td>1</td>\n",
       "      <td>0.1357</td>\n",
       "      <td>366.86</td>\n",
       "      <td>10.373491</td>\n",
       "      <td>11.63</td>\n",
       "      <td>682</td>\n",
       "      <td>4710.000000</td>\n",
       "      <td>3511</td>\n",
       "      <td>25.6</td>\n",
       "      <td>1</td>\n",
       "      <td>0</td>\n",
       "      <td>0</td>\n",
       "      <td>0</td>\n",
       "    </tr>\n",
       "    <tr>\n",
       "      <th>3</th>\n",
       "      <td>1</td>\n",
       "      <td>0.1008</td>\n",
       "      <td>162.34</td>\n",
       "      <td>11.350407</td>\n",
       "      <td>8.10</td>\n",
       "      <td>712</td>\n",
       "      <td>2699.958333</td>\n",
       "      <td>33667</td>\n",
       "      <td>73.2</td>\n",
       "      <td>1</td>\n",
       "      <td>0</td>\n",
       "      <td>0</td>\n",
       "      <td>0</td>\n",
       "    </tr>\n",
       "    <tr>\n",
       "      <th>4</th>\n",
       "      <td>1</td>\n",
       "      <td>0.1426</td>\n",
       "      <td>102.92</td>\n",
       "      <td>11.299732</td>\n",
       "      <td>14.97</td>\n",
       "      <td>667</td>\n",
       "      <td>4066.000000</td>\n",
       "      <td>4740</td>\n",
       "      <td>39.5</td>\n",
       "      <td>0</td>\n",
       "      <td>1</td>\n",
       "      <td>0</td>\n",
       "      <td>0</td>\n",
       "    </tr>\n",
       "  </tbody>\n",
       "</table>\n",
       "</div>"
      ],
      "text/plain": [
       "   credit.policy  int.rate  installment  log.annual.inc    dti  fico  \\\n",
       "0              1    0.1189       829.10       11.350407  19.48   737   \n",
       "1              1    0.1071       228.22       11.082143  14.29   707   \n",
       "2              1    0.1357       366.86       10.373491  11.63   682   \n",
       "3              1    0.1008       162.34       11.350407   8.10   712   \n",
       "4              1    0.1426       102.92       11.299732  14.97   667   \n",
       "\n",
       "   days.with.cr.line  revol.bal  revol.util  inq.last.6mths  delinq.2yrs  \\\n",
       "0        5639.958333      28854        52.1               0            0   \n",
       "1        2760.000000      33623        76.7               0            0   \n",
       "2        4710.000000       3511        25.6               1            0   \n",
       "3        2699.958333      33667        73.2               1            0   \n",
       "4        4066.000000       4740        39.5               0            1   \n",
       "\n",
       "   pub.rec  not.fully.paid  \n",
       "0        0               0  \n",
       "1        0               0  \n",
       "2        0               0  \n",
       "3        0               0  \n",
       "4        0               0  "
      ]
     },
     "metadata": {},
     "execution_count": 6
    }
   ],
   "metadata": {}
  },
  {
   "cell_type": "code",
   "execution_count": 7,
   "source": [
    "loan_data.tail()"
   ],
   "outputs": [
    {
     "output_type": "execute_result",
     "data": {
      "text/html": [
       "<div>\n",
       "<style scoped>\n",
       "    .dataframe tbody tr th:only-of-type {\n",
       "        vertical-align: middle;\n",
       "    }\n",
       "\n",
       "    .dataframe tbody tr th {\n",
       "        vertical-align: top;\n",
       "    }\n",
       "\n",
       "    .dataframe thead th {\n",
       "        text-align: right;\n",
       "    }\n",
       "</style>\n",
       "<table border=\"1\" class=\"dataframe\">\n",
       "  <thead>\n",
       "    <tr style=\"text-align: right;\">\n",
       "      <th></th>\n",
       "      <th>credit.policy</th>\n",
       "      <th>int.rate</th>\n",
       "      <th>installment</th>\n",
       "      <th>log.annual.inc</th>\n",
       "      <th>dti</th>\n",
       "      <th>fico</th>\n",
       "      <th>days.with.cr.line</th>\n",
       "      <th>revol.bal</th>\n",
       "      <th>revol.util</th>\n",
       "      <th>inq.last.6mths</th>\n",
       "      <th>delinq.2yrs</th>\n",
       "      <th>pub.rec</th>\n",
       "      <th>not.fully.paid</th>\n",
       "    </tr>\n",
       "  </thead>\n",
       "  <tbody>\n",
       "    <tr>\n",
       "      <th>9573</th>\n",
       "      <td>0</td>\n",
       "      <td>0.1461</td>\n",
       "      <td>344.76</td>\n",
       "      <td>12.180755</td>\n",
       "      <td>10.39</td>\n",
       "      <td>672</td>\n",
       "      <td>10474.000000</td>\n",
       "      <td>215372</td>\n",
       "      <td>82.1</td>\n",
       "      <td>2</td>\n",
       "      <td>0</td>\n",
       "      <td>0</td>\n",
       "      <td>1</td>\n",
       "    </tr>\n",
       "    <tr>\n",
       "      <th>9574</th>\n",
       "      <td>0</td>\n",
       "      <td>0.1253</td>\n",
       "      <td>257.70</td>\n",
       "      <td>11.141862</td>\n",
       "      <td>0.21</td>\n",
       "      <td>722</td>\n",
       "      <td>4380.000000</td>\n",
       "      <td>184</td>\n",
       "      <td>1.1</td>\n",
       "      <td>5</td>\n",
       "      <td>0</td>\n",
       "      <td>0</td>\n",
       "      <td>1</td>\n",
       "    </tr>\n",
       "    <tr>\n",
       "      <th>9575</th>\n",
       "      <td>0</td>\n",
       "      <td>0.1071</td>\n",
       "      <td>97.81</td>\n",
       "      <td>10.596635</td>\n",
       "      <td>13.09</td>\n",
       "      <td>687</td>\n",
       "      <td>3450.041667</td>\n",
       "      <td>10036</td>\n",
       "      <td>82.9</td>\n",
       "      <td>8</td>\n",
       "      <td>0</td>\n",
       "      <td>0</td>\n",
       "      <td>1</td>\n",
       "    </tr>\n",
       "    <tr>\n",
       "      <th>9576</th>\n",
       "      <td>0</td>\n",
       "      <td>0.1600</td>\n",
       "      <td>351.58</td>\n",
       "      <td>10.819778</td>\n",
       "      <td>19.18</td>\n",
       "      <td>692</td>\n",
       "      <td>1800.000000</td>\n",
       "      <td>0</td>\n",
       "      <td>3.2</td>\n",
       "      <td>5</td>\n",
       "      <td>0</td>\n",
       "      <td>0</td>\n",
       "      <td>1</td>\n",
       "    </tr>\n",
       "    <tr>\n",
       "      <th>9577</th>\n",
       "      <td>0</td>\n",
       "      <td>0.1392</td>\n",
       "      <td>853.43</td>\n",
       "      <td>11.264464</td>\n",
       "      <td>16.28</td>\n",
       "      <td>732</td>\n",
       "      <td>4740.000000</td>\n",
       "      <td>37879</td>\n",
       "      <td>57.0</td>\n",
       "      <td>6</td>\n",
       "      <td>0</td>\n",
       "      <td>0</td>\n",
       "      <td>1</td>\n",
       "    </tr>\n",
       "  </tbody>\n",
       "</table>\n",
       "</div>"
      ],
      "text/plain": [
       "      credit.policy  int.rate  installment  log.annual.inc    dti  fico  \\\n",
       "9573              0    0.1461       344.76       12.180755  10.39   672   \n",
       "9574              0    0.1253       257.70       11.141862   0.21   722   \n",
       "9575              0    0.1071        97.81       10.596635  13.09   687   \n",
       "9576              0    0.1600       351.58       10.819778  19.18   692   \n",
       "9577              0    0.1392       853.43       11.264464  16.28   732   \n",
       "\n",
       "      days.with.cr.line  revol.bal  revol.util  inq.last.6mths  delinq.2yrs  \\\n",
       "9573       10474.000000     215372        82.1               2            0   \n",
       "9574        4380.000000        184         1.1               5            0   \n",
       "9575        3450.041667      10036        82.9               8            0   \n",
       "9576        1800.000000          0         3.2               5            0   \n",
       "9577        4740.000000      37879        57.0               6            0   \n",
       "\n",
       "      pub.rec  not.fully.paid  \n",
       "9573        0               1  \n",
       "9574        0               1  \n",
       "9575        0               1  \n",
       "9576        0               1  \n",
       "9577        0               1  "
      ]
     },
     "metadata": {},
     "execution_count": 7
    }
   ],
   "metadata": {}
  },
  {
   "cell_type": "code",
   "execution_count": 8,
   "source": [
    "loan_data.sample(5)"
   ],
   "outputs": [
    {
     "output_type": "execute_result",
     "data": {
      "text/html": [
       "<div>\n",
       "<style scoped>\n",
       "    .dataframe tbody tr th:only-of-type {\n",
       "        vertical-align: middle;\n",
       "    }\n",
       "\n",
       "    .dataframe tbody tr th {\n",
       "        vertical-align: top;\n",
       "    }\n",
       "\n",
       "    .dataframe thead th {\n",
       "        text-align: right;\n",
       "    }\n",
       "</style>\n",
       "<table border=\"1\" class=\"dataframe\">\n",
       "  <thead>\n",
       "    <tr style=\"text-align: right;\">\n",
       "      <th></th>\n",
       "      <th>credit.policy</th>\n",
       "      <th>int.rate</th>\n",
       "      <th>installment</th>\n",
       "      <th>log.annual.inc</th>\n",
       "      <th>dti</th>\n",
       "      <th>fico</th>\n",
       "      <th>days.with.cr.line</th>\n",
       "      <th>revol.bal</th>\n",
       "      <th>revol.util</th>\n",
       "      <th>inq.last.6mths</th>\n",
       "      <th>delinq.2yrs</th>\n",
       "      <th>pub.rec</th>\n",
       "      <th>not.fully.paid</th>\n",
       "    </tr>\n",
       "  </thead>\n",
       "  <tbody>\n",
       "    <tr>\n",
       "      <th>6557</th>\n",
       "      <td>1</td>\n",
       "      <td>0.1183</td>\n",
       "      <td>728.95</td>\n",
       "      <td>12.254863</td>\n",
       "      <td>13.51</td>\n",
       "      <td>757</td>\n",
       "      <td>3814.041667</td>\n",
       "      <td>298</td>\n",
       "      <td>1.0</td>\n",
       "      <td>1</td>\n",
       "      <td>0</td>\n",
       "      <td>0</td>\n",
       "      <td>0</td>\n",
       "    </tr>\n",
       "    <tr>\n",
       "      <th>49</th>\n",
       "      <td>1</td>\n",
       "      <td>0.0743</td>\n",
       "      <td>178.69</td>\n",
       "      <td>11.736069</td>\n",
       "      <td>0.27</td>\n",
       "      <td>792</td>\n",
       "      <td>7488.958333</td>\n",
       "      <td>2817</td>\n",
       "      <td>10.2</td>\n",
       "      <td>0</td>\n",
       "      <td>0</td>\n",
       "      <td>0</td>\n",
       "      <td>0</td>\n",
       "    </tr>\n",
       "    <tr>\n",
       "      <th>4398</th>\n",
       "      <td>1</td>\n",
       "      <td>0.0740</td>\n",
       "      <td>186.36</td>\n",
       "      <td>11.608236</td>\n",
       "      <td>12.86</td>\n",
       "      <td>787</td>\n",
       "      <td>9484.000000</td>\n",
       "      <td>63621</td>\n",
       "      <td>13.2</td>\n",
       "      <td>0</td>\n",
       "      <td>0</td>\n",
       "      <td>0</td>\n",
       "      <td>0</td>\n",
       "    </tr>\n",
       "    <tr>\n",
       "      <th>4082</th>\n",
       "      <td>1</td>\n",
       "      <td>0.1600</td>\n",
       "      <td>527.36</td>\n",
       "      <td>11.156251</td>\n",
       "      <td>7.83</td>\n",
       "      <td>662</td>\n",
       "      <td>6329.958333</td>\n",
       "      <td>18503</td>\n",
       "      <td>86.5</td>\n",
       "      <td>0</td>\n",
       "      <td>0</td>\n",
       "      <td>0</td>\n",
       "      <td>0</td>\n",
       "    </tr>\n",
       "    <tr>\n",
       "      <th>332</th>\n",
       "      <td>1</td>\n",
       "      <td>0.1109</td>\n",
       "      <td>327.82</td>\n",
       "      <td>10.633449</td>\n",
       "      <td>19.32</td>\n",
       "      <td>702</td>\n",
       "      <td>2849.000000</td>\n",
       "      <td>15368</td>\n",
       "      <td>87.1</td>\n",
       "      <td>0</td>\n",
       "      <td>0</td>\n",
       "      <td>0</td>\n",
       "      <td>0</td>\n",
       "    </tr>\n",
       "  </tbody>\n",
       "</table>\n",
       "</div>"
      ],
      "text/plain": [
       "      credit.policy  int.rate  installment  log.annual.inc    dti  fico  \\\n",
       "6557              1    0.1183       728.95       12.254863  13.51   757   \n",
       "49                1    0.0743       178.69       11.736069   0.27   792   \n",
       "4398              1    0.0740       186.36       11.608236  12.86   787   \n",
       "4082              1    0.1600       527.36       11.156251   7.83   662   \n",
       "332               1    0.1109       327.82       10.633449  19.32   702   \n",
       "\n",
       "      days.with.cr.line  revol.bal  revol.util  inq.last.6mths  delinq.2yrs  \\\n",
       "6557        3814.041667        298         1.0               1            0   \n",
       "49          7488.958333       2817        10.2               0            0   \n",
       "4398        9484.000000      63621        13.2               0            0   \n",
       "4082        6329.958333      18503        86.5               0            0   \n",
       "332         2849.000000      15368        87.1               0            0   \n",
       "\n",
       "      pub.rec  not.fully.paid  \n",
       "6557        0               0  \n",
       "49          0               0  \n",
       "4398        0               0  \n",
       "4082        0               0  \n",
       "332         0               0  "
      ]
     },
     "metadata": {},
     "execution_count": 8
    }
   ],
   "metadata": {}
  },
  {
   "cell_type": "code",
   "execution_count": 6,
   "source": [
    "loan_data.mean()"
   ],
   "outputs": [
    {
     "output_type": "execute_result",
     "data": {
      "text/plain": [
       "credit.policy            0.804970\n",
       "int.rate                 0.122640\n",
       "installment            319.089413\n",
       "log.annual.inc          10.932117\n",
       "dti                     12.606679\n",
       "fico                   710.846314\n",
       "days.with.cr.line     4560.767197\n",
       "revol.bal            16913.963876\n",
       "revol.util              46.799236\n",
       "inq.last.6mths           1.577469\n",
       "delinq.2yrs              0.163708\n",
       "pub.rec                  0.062122\n",
       "not.fully.paid           0.160054\n",
       "dtype: float64"
      ]
     },
     "metadata": {},
     "execution_count": 6
    }
   ],
   "metadata": {}
  },
  {
   "cell_type": "markdown",
   "source": [
    "\n",
    "\n",
    "### c. Histogram\n",
    "\n",
    "In this task, we are asked to create a stacked histogram for `not.fully.paid` against borrowers' credit scores `fico`.\n",
    "\n",
    "Using `.groupby()` and `.agg()`, we are grouping the dataframe by `fico` and finding:\n",
    "- the total number of loans; `count`\n",
    "- the total number of fully paid loans; `sum`"
   ],
   "metadata": {}
  },
  {
   "cell_type": "code",
   "execution_count": 9,
   "source": [
    "groupbyFico = loan_data.groupby('fico')['not.fully.paid'].agg(['count','sum'])"
   ],
   "outputs": [],
   "metadata": {}
  },
  {
   "cell_type": "markdown",
   "source": [
    "Using the resulting columns, we can calculate the number of loans not fully paid and fully paid:\n",
    "- `Not Fully Paid = sum`\n",
    "- `Fully Paid = count - sum`"
   ],
   "metadata": {}
  },
  {
   "cell_type": "code",
   "execution_count": 10,
   "source": [
    "groupbyFico['Not Fully Paid'] = groupbyFico['sum']\n",
    "groupbyFico['Fully Paid'] = groupbyFico['count'] - groupbyFico['sum'] "
   ],
   "outputs": [],
   "metadata": {}
  },
  {
   "cell_type": "markdown",
   "source": [
    "Using `.loc`, we select the newly created `Not Fully Paid` and `Fully Paid` columns and use `.reset_index()` and `rename()` to clean up the data."
   ],
   "metadata": {}
  },
  {
   "cell_type": "code",
   "execution_count": 11,
   "source": [
    "groupbyFico = groupbyFico.loc[:, ('Not Fully Paid', 'Fully Paid')]\n",
    "groupbyFico = groupbyFico.reset_index()\n",
    "groupbyFico.rename(\n",
    "    columns = {'fico' : 'Fico'},\n",
    "    inplace = True\n",
    ")\n",
    "groupbyFico.head()"
   ],
   "outputs": [
    {
     "output_type": "execute_result",
     "data": {
      "text/html": [
       "<div>\n",
       "<style scoped>\n",
       "    .dataframe tbody tr th:only-of-type {\n",
       "        vertical-align: middle;\n",
       "    }\n",
       "\n",
       "    .dataframe tbody tr th {\n",
       "        vertical-align: top;\n",
       "    }\n",
       "\n",
       "    .dataframe thead th {\n",
       "        text-align: right;\n",
       "    }\n",
       "</style>\n",
       "<table border=\"1\" class=\"dataframe\">\n",
       "  <thead>\n",
       "    <tr style=\"text-align: right;\">\n",
       "      <th></th>\n",
       "      <th>Fico</th>\n",
       "      <th>Not Fully Paid</th>\n",
       "      <th>Fully Paid</th>\n",
       "    </tr>\n",
       "  </thead>\n",
       "  <tbody>\n",
       "    <tr>\n",
       "      <th>0</th>\n",
       "      <td>612</td>\n",
       "      <td>0</td>\n",
       "      <td>2</td>\n",
       "    </tr>\n",
       "    <tr>\n",
       "      <th>1</th>\n",
       "      <td>617</td>\n",
       "      <td>1</td>\n",
       "      <td>0</td>\n",
       "    </tr>\n",
       "    <tr>\n",
       "      <th>2</th>\n",
       "      <td>622</td>\n",
       "      <td>0</td>\n",
       "      <td>1</td>\n",
       "    </tr>\n",
       "    <tr>\n",
       "      <th>3</th>\n",
       "      <td>627</td>\n",
       "      <td>1</td>\n",
       "      <td>1</td>\n",
       "    </tr>\n",
       "    <tr>\n",
       "      <th>4</th>\n",
       "      <td>632</td>\n",
       "      <td>4</td>\n",
       "      <td>2</td>\n",
       "    </tr>\n",
       "  </tbody>\n",
       "</table>\n",
       "</div>"
      ],
      "text/plain": [
       "   Fico  Not Fully Paid  Fully Paid\n",
       "0   612               0           2\n",
       "1   617               1           0\n",
       "2   622               0           1\n",
       "3   627               1           1\n",
       "4   632               4           2"
      ]
     },
     "metadata": {},
     "execution_count": 11
    }
   ],
   "metadata": {}
  },
  {
   "cell_type": "markdown",
   "source": [
    "Using `plt.bar`, we are creating a stacked histogram with `fico` as the x axis and number of loans as the y axis. \n",
    "\n",
    "We are doing this as a proportion of loans, as we wish to see whether `fico` score affects how likely a loan is to be paid off."
   ],
   "metadata": {}
  },
  {
   "cell_type": "code",
   "execution_count": 12,
   "source": [
    "percent = groupbyFico['Not Fully Paid']/(groupbyFico['Not Fully Paid'] + groupbyFico['Fully Paid'])\n",
    "\n",
    "barWidth = 3\n",
    "\n",
    "plt.bar(groupbyFico['Fico'], percent, width = barWidth, label = 'Not Fully Paid')\n",
    "plt.bar(groupbyFico['Fico'], 1 - percent, bottom = percent, width = barWidth, label = 'Fully Paid')\n",
    "\n",
    "plt.xlabel('Fico')\n",
    "plt.ylabel('Proportion of Loans')\n",
    "\n",
    "plt.legend(loc='upper left', bbox_to_anchor=(1,1), ncol=1)\n",
    "plt.title('Proportion of loans that are paid back based on Fico score')\n",
    "\n",
    "plt.show()"
   ],
   "outputs": [
    {
     "output_type": "display_data",
     "data": {
      "image/png": "[encoded data removed]",
      "text/plain": [
       "<Figure size 432x288 with 1 Axes>"
      ]
     },
     "metadata": {
      "needs_background": "light"
     }
    }
   ],
   "metadata": {}
  },
  {
   "cell_type": "markdown",
   "source": [
    "By observing the graph above, we can see that the proportion of fully paid loans increases as credit score, `fico`, increases. \n",
    "\n",
    "This indicates that a borrower with a *higher* credit score is **more likely** to fully pay back a loan compared to a borrower with a *lower* credit score. \n",
    "\n",
    "### d.  Fico and Interest Rate Plot\n",
    "\n",
    "In this task, we are asked to create a plot to show the relationship between `fico` and `int.rate`. \n",
    "\n",
    "We will be using a scatter plot to represent the data points and be using **LinearRegression** from the package `sklearn.linear_model` to obtain a line of best fit to better represent the trend of the data. \n",
    "\n",
    "First, we will be importing **LinearRegression** from `sklearn.linear_model`:"
   ],
   "metadata": {}
  },
  {
   "cell_type": "code",
   "execution_count": 13,
   "source": [
    "from sklearn.linear_model import LinearRegression"
   ],
   "outputs": [],
   "metadata": {}
  },
  {
   "cell_type": "markdown",
   "source": [
    "Using `np.array()`, we fit `fico` and `int.rate` into a numpy array as x and y variables respectively."
   ],
   "metadata": {}
  },
  {
   "cell_type": "code",
   "execution_count": 14,
   "source": [
    "x = np.array(loan_data['fico'])\n",
    "x = x[:, np.newaxis]\n",
    "y = np.array(loan_data['int.rate'])\n",
    "y = y[:, np.newaxis]"
   ],
   "outputs": [],
   "metadata": {}
  },
  {
   "cell_type": "markdown",
   "source": [
    "Usinng `plt.scatter()`, we create a scatter plot for `fico` and `int.rate` and fit a line of best fit using `model.fit()`."
   ],
   "metadata": {}
  },
  {
   "cell_type": "code",
   "execution_count": 15,
   "source": [
    "model = LinearRegression()\n",
    "model.fit(x,y)\n",
    "y_pred = model.predict(x)\n",
    "\n",
    "plt.scatter(x, y, s=5)\n",
    "plt.plot(x, y_pred, color='r')\n",
    "plt.xlabel('Fico')\n",
    "plt.ylabel('Interest Rate')\n",
    "plt.show()"
   ],
   "outputs": [
    {
     "output_type": "display_data",
     "data": {
      "image/png": "[encoded data removed]",
      "text/plain": [
       "<Figure size 432x288 with 1 Axes>"
      ]
     },
     "metadata": {
      "needs_background": "light"
     }
    }
   ],
   "metadata": {}
  },
  {
   "cell_type": "markdown",
   "source": [
    "By observing the scatter plot above and the predicted line of best fit, we can see there is a downward trend in the data, with interest rate decreasing as credit score increases.\n",
    "\n",
    "This indicates that borrowers with *higher* credit scores are considered to be **less risky** and are therefore assigned *lower* interest rates."
   ],
   "metadata": {}
  },
  {
   "cell_type": "markdown",
   "source": [
    "## 2. Supervised Learning\n",
    "\n",
    "### a. Supervised ML, Labelled Data, and Training/Testing Datasets\n",
    "\n",
    "**Supervised Machine Learning:** Supervised ML is when we are trying to teach a machine to predict/infer an output by feeding it labelled data and having it attempt to \"*approximate the mapping function so well that when you have new input data, you can predict the output variable for that data*\". (Taken from Week 5 Lecture)\n",
    "\n",
    "**Labelled Data:** Labelled data is data that has an associated label, such as an ID, cateogorical type, or a number attached to it. It is through these labels in Supervised ML that a machine can draw patterns from the data and try to make inferences.\n",
    "\n",
    "**Training and Testing Datasets:** Data is split into training and testing datasets. The Training Dataset is used to help the machine develop a predictive model by feeding it inputs and their corresponding outputs. The Testing Dataset is used to test how well the algorithm the machine created works, and helps to adjust it based on the results.\n",
    "\n",
    "### b. Labels and Features\n",
    "\n",
    "The **label** in this dataset is `not.fully.paid`, as we are trying to identify how the features affect how likely a loan will be fully paid off.\n",
    "\n",
    "Some **features** in this dataset include:\n",
    "- `fico`; the credit score of the borrower\n",
    "- `dti`; debt to income ratio\n",
    "- `revol.bal`; the borrower's revolving balance\n",
    "- `revol.util`; the borrower's utilisation rate\n",
    "- `delinq.2yrs`; number of times the borrower had been past due a payment\n",
    "- `pub.rec`; number of derogatory public records\n",
    "\n",
    "These features are likely to tell the lender if the borrower is trustworthy or not.\n",
    "\n",
    "### c. Splitting the data\n",
    "\n",
    "In this task, we are going to split our data into a training dataset containing 80% of `loan_data` and a testing dataset containing the remaining 20%. \n",
    "\n",
    "We start off by using `.columns` to take a look at our dataset's columns: "
   ],
   "metadata": {}
  },
  {
   "cell_type": "code",
   "execution_count": 16,
   "source": [
    "loan_data.columns"
   ],
   "outputs": [
    {
     "output_type": "execute_result",
     "data": {
      "text/plain": [
       "Index(['credit.policy', 'int.rate', 'installment', 'log.annual.inc', 'dti',\n",
       "       'fico', 'days.with.cr.line', 'revol.bal', 'revol.util',\n",
       "       'inq.last.6mths', 'delinq.2yrs', 'pub.rec', 'not.fully.paid'],\n",
       "      dtype='object')"
      ]
     },
     "metadata": {},
     "execution_count": 16
    }
   ],
   "metadata": {}
  },
  {
   "cell_type": "markdown",
   "source": [
    "Then, using `.iloc` we are going to select the appropriate columns for the input data **x** and output data **y**:"
   ],
   "metadata": {}
  },
  {
   "cell_type": "code",
   "execution_count": 17,
   "source": [
    "X = loan_data.iloc[:, 0:11].values # input data\n",
    "X"
   ],
   "outputs": [
    {
     "output_type": "execute_result",
     "data": {
      "text/plain": [
       "array([[1.0000e+00, 1.1890e-01, 8.2910e+02, ..., 5.2100e+01, 0.0000e+00,\n",
       "        0.0000e+00],\n",
       "       [1.0000e+00, 1.0710e-01, 2.2822e+02, ..., 7.6700e+01, 0.0000e+00,\n",
       "        0.0000e+00],\n",
       "       [1.0000e+00, 1.3570e-01, 3.6686e+02, ..., 2.5600e+01, 1.0000e+00,\n",
       "        0.0000e+00],\n",
       "       ...,\n",
       "       [0.0000e+00, 1.0710e-01, 9.7810e+01, ..., 8.2900e+01, 8.0000e+00,\n",
       "        0.0000e+00],\n",
       "       [0.0000e+00, 1.6000e-01, 3.5158e+02, ..., 3.2000e+00, 5.0000e+00,\n",
       "        0.0000e+00],\n",
       "       [0.0000e+00, 1.3920e-01, 8.5343e+02, ..., 5.7000e+01, 6.0000e+00,\n",
       "        0.0000e+00]])"
      ]
     },
     "metadata": {},
     "execution_count": 17
    }
   ],
   "metadata": {}
  },
  {
   "cell_type": "code",
   "execution_count": 18,
   "source": [
    "y = loan_data.iloc[:, 12].values # output data\n",
    "y"
   ],
   "outputs": [
    {
     "output_type": "execute_result",
     "data": {
      "text/plain": [
       "array([0, 0, 0, ..., 1, 1, 1], dtype=int64)"
      ]
     },
     "metadata": {},
     "execution_count": 18
    }
   ],
   "metadata": {}
  },
  {
   "cell_type": "markdown",
   "source": [
    "We are using `sklearn.model_selection.train_test_split` to split the data, using `test_size = 0.2`:"
   ],
   "metadata": {}
  },
  {
   "cell_type": "code",
   "execution_count": 19,
   "source": [
    "from sklearn.model_selection import train_test_split\n",
    "X_train, X_test, y_train, y_test = train_test_split(\n",
    " X, y, test_size=0.2, random_state=0\n",
    ")"
   ],
   "outputs": [],
   "metadata": {}
  },
  {
   "cell_type": "markdown",
   "source": [
    "## 3. Classification\n",
    "\n",
    "### a. Binary and Multi-class Classification\n",
    "\n",
    "In machine learning, Classification is the method of classifying data into different groups. \n",
    "\n",
    "**Binary classification** is the categorisation of data into two distinct separate classes.\n",
    "\n",
    "**Multi-class Classfication** is the categorisation of data into multiple different categories.\n",
    "\n",
    "In this question, we are separating the data into two distinct categories of `not.fully.paid`: **0** or **1**. Therefore, our problem fits under the description of **Binary Classification**.\n",
    "\n",
    "### b. Training \n",
    "\n",
    "Using `DecisionTreeClassifier` and `RandomForestClassifier` from `sklearn.tree`, we are going to train a **decision tree** and **random forest model**.\n",
    "\n",
    "First, we need to normalise the data, using `StandardScaler()`. As the range of data can vary greatly, we scale the features down so they are proportionally similar:"
   ],
   "metadata": {}
  },
  {
   "cell_type": "code",
   "execution_count": 20,
   "source": [
    "from sklearn.preprocessing import StandardScaler\n",
    "sc = StandardScaler()\n",
    "X_train = sc.fit_transform(X_train)\n",
    "X_test = sc.transform(X_test)"
   ],
   "outputs": [],
   "metadata": {}
  },
  {
   "cell_type": "markdown",
   "source": [
    "#### Decision Tree\n",
    "\n",
    "Using `DecisionTreeClassifier`, we are going to fit a Decision Tree Classification to the training dataset:"
   ],
   "metadata": {}
  },
  {
   "cell_type": "code",
   "execution_count": 21,
   "source": [
    "# Fitting Decision Tree Classification to the Training set\n",
    "from sklearn.tree import DecisionTreeClassifier\n",
    "classifier = DecisionTreeClassifier(\n",
    "    criterion = 'entropy', random_state = 0\n",
    ")\n",
    "classifier.fit(X_train, y_train)"
   ],
   "outputs": [
    {
     "output_type": "execute_result",
     "data": {
      "text/plain": [
       "DecisionTreeClassifier(criterion='entropy', random_state=0)"
      ]
     },
     "metadata": {},
     "execution_count": 21
    }
   ],
   "metadata": {}
  },
  {
   "cell_type": "markdown",
   "source": [
    "#### Random Forest\n",
    "\n",
    "Using `RandomForestClassifier`, we are going to fit a Random Forest Classification to the training dataset:"
   ],
   "metadata": {}
  },
  {
   "cell_type": "code",
   "execution_count": 22,
   "source": [
    "# Fitting Random Forest Classification to the Training set\n",
    "from sklearn.ensemble import RandomForestClassifier\n",
    "rfclassifier = RandomForestClassifier(\n",
    "    n_estimators = 2000,\n",
    "    criterion = 'entropy',\n",
    "    random_state = 0\n",
    ")\n",
    "rfclassifier.fit(X_train, y_train)"
   ],
   "outputs": [
    {
     "output_type": "execute_result",
     "data": {
      "text/plain": [
       "RandomForestClassifier(criterion='entropy', n_estimators=2000, random_state=0)"
      ]
     },
     "metadata": {},
     "execution_count": 22
    }
   ],
   "metadata": {}
  },
  {
   "cell_type": "markdown",
   "source": [
    "### c. Prediction\n",
    "\n",
    "#### i. Predict results\n",
    "\n",
    "#### Decision Tree\n",
    "\n",
    "Using `.predict`, we are predicting the test dataset for a Decision Tree Classification:"
   ],
   "metadata": {}
  },
  {
   "cell_type": "code",
   "execution_count": 23,
   "source": [
    "# Predicting the Test set results for Decision Tree Classification:\n",
    "y_pred_dt = classifier.predict(X_test)\n",
    "y_pred_dt"
   ],
   "outputs": [
    {
     "output_type": "execute_result",
     "data": {
      "text/plain": [
       "array([0, 0, 0, ..., 0, 0, 0], dtype=int64)"
      ]
     },
     "metadata": {},
     "execution_count": 23
    }
   ],
   "metadata": {}
  },
  {
   "cell_type": "markdown",
   "source": [
    "#### Random Forest\n",
    "\n",
    "Using `.predict`, we are predicting the test dataset for a Random Forest Classification:"
   ],
   "metadata": {}
  },
  {
   "cell_type": "code",
   "execution_count": 24,
   "source": [
    "# Predicting the Test set results for Random Forest Classification:\r\n",
    "y_pred_rf = rfclassifier.predict(X_test)\r\n",
    "y_pred_rf"
   ],
   "outputs": [
    {
     "output_type": "execute_result",
     "data": {
      "text/plain": [
       "array([0, 0, 0, ..., 0, 0, 0], dtype=int64)"
      ]
     },
     "metadata": {},
     "execution_count": 24
    }
   ],
   "metadata": {}
  },
  {
   "cell_type": "markdown",
   "source": [
    "#### ii. Display the confusion matrix\n",
    "\n",
    "Using `.confusion_matrix` from the `sklearn.metrics` package, we are creating a confusion matrix for both classifications."
   ],
   "metadata": {}
  },
  {
   "cell_type": "code",
   "execution_count": 25,
   "source": [
    "from sklearn.metrics import confusion_matrix"
   ],
   "outputs": [],
   "metadata": {}
  },
  {
   "cell_type": "markdown",
   "source": [
    "#### Decision Tree Confusion Matrix:"
   ],
   "metadata": {}
  },
  {
   "cell_type": "code",
   "execution_count": 26,
   "source": [
    "# Making the Confusion Matrix for Decision Tree Classification\r\n",
    "from sklearn.metrics import confusion_matrix\r\n",
    "cm_dt = confusion_matrix(y_test, y_pred_dt)\r\n",
    "cm_dt"
   ],
   "outputs": [
    {
     "output_type": "execute_result",
     "data": {
      "text/plain": [
       "array([[1379,  236],\n",
       "       [ 226,   75]], dtype=int64)"
      ]
     },
     "metadata": {},
     "execution_count": 26
    }
   ],
   "metadata": {}
  },
  {
   "cell_type": "markdown",
   "source": [
    "#### Random Forest Confusion Matrix:"
   ],
   "metadata": {}
  },
  {
   "cell_type": "code",
   "execution_count": 27,
   "source": [
    "# Making the Confusion Matrix for Random Forest Classification\r\n",
    "from sklearn.metrics import confusion_matrix\r\n",
    "cm_rf = confusion_matrix(y_test, y_pred_rf)\r\n",
    "cm_rf"
   ],
   "outputs": [
    {
     "output_type": "execute_result",
     "data": {
      "text/plain": [
       "array([[1609,    6],\n",
       "       [ 296,    5]], dtype=int64)"
      ]
     },
     "metadata": {},
     "execution_count": 27
    }
   ],
   "metadata": {}
  },
  {
   "cell_type": "markdown",
   "source": [
    "## 4. Conclusion\n",
    "Based on the confusion matrices from 3.c.ii, we can see that the **accuracy** of Random Forest Classification is far greater than Decision Tree Classification in this problem, with RF Classification having an accuracy of **84%** `(1609 + 5 / 1609 + 6 + 296 + 5)` versus DT Classification's accuracy of **76%** `(1379 + 75 / 1379 + 236 + 226 + 75)`.\n",
    "\n",
    "Another metric that is of interest is **sensitivity**. That is, when the actual value is positive (a loan will not be fully paid back), how often is the prediction correct? In this case, DT Classification has a lower sensitivity when compared to RF, with DT having a precision of **85.4%** versus RF's sensitivity of **99.6%**.\n",
    "\n",
    "In this problem, false positives (a loan that is predicted to be not be fully paid is paid in full) are more acceptable that false negatives (a loan that is predicted to be paid in full is not fully paid). Therefore, we should be optimising for sensitivity.\n",
    "\n",
    "**RF Classification is performing better than DT Classification** in my opinion because of it's higher accuracy and sensitivity in this problem."
   ],
   "metadata": {}
  },
  {
   "cell_type": "markdown",
   "source": [
    "# Question 2.\n",
    "## 1. Introduction\n",
    "### a. Introduction\n",
    "In this question, we are acting as a data scientist in an E-Commerce company. The company has two ways that they sell clothing online:\n",
    "\n",
    "- through their **website**\n",
    "- through their **mobile app**\n",
    "\n",
    "The company also offers style/clothing advice sessions indoors. Customers attend these sessions and then they order their clothes on either the website or mobile app.\n",
    "\n",
    "The company is asking you to determine whether they should focus their efforts on the mobile app or the website.\n",
    "\n",
    "### b. Importing Libraries + Reading Data\n",
    "\n",
    "The first library we will be importing is **pandas**, which is used to create *DataFrames*. These dataframes allow us to manage and manipulate data more easily.\n",
    "\n",
    "The second library we will be importing is **matplotlib.pyplot**, which is used to plot and visualise data in Python.\n",
    "\n",
    "We will also be importing **numpy**, which is a package that is used for working with arrays."
   ],
   "metadata": {}
  },
  {
   "cell_type": "code",
   "execution_count": 28,
   "source": [
    "import pandas as pd\r\n",
    "import matplotlib.pyplot as plt\r\n",
    "import numpy as np"
   ],
   "outputs": [],
   "metadata": {}
  },
  {
   "cell_type": "markdown",
   "source": [
    "Using `.read_csv()`, we are going to read in the dataset `customers-shop.csv`:"
   ],
   "metadata": {}
  },
  {
   "cell_type": "code",
   "execution_count": 29,
   "source": [
    "shop_data = pd.read_csv('Assignment 2Data/customers-shop.csv')"
   ],
   "outputs": [],
   "metadata": {}
  },
  {
   "cell_type": "markdown",
   "source": [
    "To make sure we are reading the data in correctly, we are going to use `head()`, `tail()`, and `sample()` to check the data:"
   ],
   "metadata": {}
  },
  {
   "cell_type": "code",
   "execution_count": 30,
   "source": [
    "shop_data.head()"
   ],
   "outputs": [
    {
     "output_type": "execute_result",
     "data": {
      "text/html": [
       "<div>\n",
       "<style scoped>\n",
       "    .dataframe tbody tr th:only-of-type {\n",
       "        vertical-align: middle;\n",
       "    }\n",
       "\n",
       "    .dataframe tbody tr th {\n",
       "        vertical-align: top;\n",
       "    }\n",
       "\n",
       "    .dataframe thead th {\n",
       "        text-align: right;\n",
       "    }\n",
       "</style>\n",
       "<table border=\"1\" class=\"dataframe\">\n",
       "  <thead>\n",
       "    <tr style=\"text-align: right;\">\n",
       "      <th></th>\n",
       "      <th>Customer info-color Avatar</th>\n",
       "      <th>Avg. Session Length</th>\n",
       "      <th>Time on App</th>\n",
       "      <th>Time on Website</th>\n",
       "      <th>Length of Membership</th>\n",
       "      <th>Yearly Amount Spent</th>\n",
       "    </tr>\n",
       "  </thead>\n",
       "  <tbody>\n",
       "    <tr>\n",
       "      <th>0</th>\n",
       "      <td>Violet</td>\n",
       "      <td>34.497268</td>\n",
       "      <td>12.655651</td>\n",
       "      <td>39.577668</td>\n",
       "      <td>4.082621</td>\n",
       "      <td>587.951054</td>\n",
       "    </tr>\n",
       "    <tr>\n",
       "      <th>1</th>\n",
       "      <td>DarkGreen</td>\n",
       "      <td>31.926272</td>\n",
       "      <td>11.109461</td>\n",
       "      <td>37.268959</td>\n",
       "      <td>2.664034</td>\n",
       "      <td>392.204933</td>\n",
       "    </tr>\n",
       "    <tr>\n",
       "      <th>2</th>\n",
       "      <td>Bisque</td>\n",
       "      <td>33.000915</td>\n",
       "      <td>11.330278</td>\n",
       "      <td>37.110597</td>\n",
       "      <td>4.104543</td>\n",
       "      <td>487.547505</td>\n",
       "    </tr>\n",
       "    <tr>\n",
       "      <th>3</th>\n",
       "      <td>SaddleBrown</td>\n",
       "      <td>34.305557</td>\n",
       "      <td>13.717514</td>\n",
       "      <td>36.721283</td>\n",
       "      <td>3.120179</td>\n",
       "      <td>581.852344</td>\n",
       "    </tr>\n",
       "    <tr>\n",
       "      <th>4</th>\n",
       "      <td>MediumAquaMarine</td>\n",
       "      <td>33.330673</td>\n",
       "      <td>12.795189</td>\n",
       "      <td>37.536653</td>\n",
       "      <td>4.446308</td>\n",
       "      <td>599.406092</td>\n",
       "    </tr>\n",
       "  </tbody>\n",
       "</table>\n",
       "</div>"
      ],
      "text/plain": [
       "  Customer info-color Avatar  Avg. Session Length  Time on App  \\\n",
       "0                     Violet            34.497268    12.655651   \n",
       "1                  DarkGreen            31.926272    11.109461   \n",
       "2                     Bisque            33.000915    11.330278   \n",
       "3                SaddleBrown            34.305557    13.717514   \n",
       "4           MediumAquaMarine            33.330673    12.795189   \n",
       "\n",
       "   Time on Website  Length of Membership  Yearly Amount Spent  \n",
       "0        39.577668              4.082621           587.951054  \n",
       "1        37.268959              2.664034           392.204933  \n",
       "2        37.110597              4.104543           487.547505  \n",
       "3        36.721283              3.120179           581.852344  \n",
       "4        37.536653              4.446308           599.406092  "
      ]
     },
     "metadata": {},
     "execution_count": 30
    }
   ],
   "metadata": {}
  },
  {
   "cell_type": "code",
   "execution_count": 31,
   "source": [
    "shop_data.tail()"
   ],
   "outputs": [
    {
     "output_type": "execute_result",
     "data": {
      "text/html": [
       "<div>\n",
       "<style scoped>\n",
       "    .dataframe tbody tr th:only-of-type {\n",
       "        vertical-align: middle;\n",
       "    }\n",
       "\n",
       "    .dataframe tbody tr th {\n",
       "        vertical-align: top;\n",
       "    }\n",
       "\n",
       "    .dataframe thead th {\n",
       "        text-align: right;\n",
       "    }\n",
       "</style>\n",
       "<table border=\"1\" class=\"dataframe\">\n",
       "  <thead>\n",
       "    <tr style=\"text-align: right;\">\n",
       "      <th></th>\n",
       "      <th>Customer info-color Avatar</th>\n",
       "      <th>Avg. Session Length</th>\n",
       "      <th>Time on App</th>\n",
       "      <th>Time on Website</th>\n",
       "      <th>Length of Membership</th>\n",
       "      <th>Yearly Amount Spent</th>\n",
       "    </tr>\n",
       "  </thead>\n",
       "  <tbody>\n",
       "    <tr>\n",
       "      <th>495</th>\n",
       "      <td>Tan</td>\n",
       "      <td>33.237660</td>\n",
       "      <td>13.566160</td>\n",
       "      <td>36.417985</td>\n",
       "      <td>3.746573</td>\n",
       "      <td>573.847438</td>\n",
       "    </tr>\n",
       "    <tr>\n",
       "      <th>496</th>\n",
       "      <td>PaleVioletRed</td>\n",
       "      <td>34.702529</td>\n",
       "      <td>11.695736</td>\n",
       "      <td>37.190268</td>\n",
       "      <td>3.576526</td>\n",
       "      <td>529.049004</td>\n",
       "    </tr>\n",
       "    <tr>\n",
       "      <th>497</th>\n",
       "      <td>Cornsilk</td>\n",
       "      <td>32.646777</td>\n",
       "      <td>11.499409</td>\n",
       "      <td>38.332576</td>\n",
       "      <td>4.958264</td>\n",
       "      <td>551.620146</td>\n",
       "    </tr>\n",
       "    <tr>\n",
       "      <th>498</th>\n",
       "      <td>Teal</td>\n",
       "      <td>33.322501</td>\n",
       "      <td>12.391423</td>\n",
       "      <td>36.840086</td>\n",
       "      <td>2.336485</td>\n",
       "      <td>456.469510</td>\n",
       "    </tr>\n",
       "    <tr>\n",
       "      <th>499</th>\n",
       "      <td>DarkMagenta</td>\n",
       "      <td>33.715981</td>\n",
       "      <td>12.418808</td>\n",
       "      <td>35.771016</td>\n",
       "      <td>2.735160</td>\n",
       "      <td>497.778642</td>\n",
       "    </tr>\n",
       "  </tbody>\n",
       "</table>\n",
       "</div>"
      ],
      "text/plain": [
       "    Customer info-color Avatar  Avg. Session Length  Time on App  \\\n",
       "495                        Tan            33.237660    13.566160   \n",
       "496              PaleVioletRed            34.702529    11.695736   \n",
       "497                   Cornsilk            32.646777    11.499409   \n",
       "498                       Teal            33.322501    12.391423   \n",
       "499                DarkMagenta            33.715981    12.418808   \n",
       "\n",
       "     Time on Website  Length of Membership  Yearly Amount Spent  \n",
       "495        36.417985              3.746573           573.847438  \n",
       "496        37.190268              3.576526           529.049004  \n",
       "497        38.332576              4.958264           551.620146  \n",
       "498        36.840086              2.336485           456.469510  \n",
       "499        35.771016              2.735160           497.778642  "
      ]
     },
     "metadata": {},
     "execution_count": 31
    }
   ],
   "metadata": {}
  },
  {
   "cell_type": "code",
   "execution_count": 32,
   "source": [
    "shop_data.sample(5)"
   ],
   "outputs": [
    {
     "output_type": "execute_result",
     "data": {
      "text/html": [
       "<div>\n",
       "<style scoped>\n",
       "    .dataframe tbody tr th:only-of-type {\n",
       "        vertical-align: middle;\n",
       "    }\n",
       "\n",
       "    .dataframe tbody tr th {\n",
       "        vertical-align: top;\n",
       "    }\n",
       "\n",
       "    .dataframe thead th {\n",
       "        text-align: right;\n",
       "    }\n",
       "</style>\n",
       "<table border=\"1\" class=\"dataframe\">\n",
       "  <thead>\n",
       "    <tr style=\"text-align: right;\">\n",
       "      <th></th>\n",
       "      <th>Customer info-color Avatar</th>\n",
       "      <th>Avg. Session Length</th>\n",
       "      <th>Time on App</th>\n",
       "      <th>Time on Website</th>\n",
       "      <th>Length of Membership</th>\n",
       "      <th>Yearly Amount Spent</th>\n",
       "    </tr>\n",
       "  </thead>\n",
       "  <tbody>\n",
       "    <tr>\n",
       "      <th>389</th>\n",
       "      <td>LightCyan</td>\n",
       "      <td>34.195508</td>\n",
       "      <td>12.664193</td>\n",
       "      <td>37.027150</td>\n",
       "      <td>4.330407</td>\n",
       "      <td>581.308933</td>\n",
       "    </tr>\n",
       "    <tr>\n",
       "      <th>403</th>\n",
       "      <td>OliveDrab</td>\n",
       "      <td>33.085298</td>\n",
       "      <td>13.093537</td>\n",
       "      <td>38.315648</td>\n",
       "      <td>4.750360</td>\n",
       "      <td>632.123588</td>\n",
       "    </tr>\n",
       "    <tr>\n",
       "      <th>152</th>\n",
       "      <td>CornflowerBlue</td>\n",
       "      <td>32.510218</td>\n",
       "      <td>10.984836</td>\n",
       "      <td>37.396497</td>\n",
       "      <td>5.391275</td>\n",
       "      <td>555.892595</td>\n",
       "    </tr>\n",
       "    <tr>\n",
       "      <th>28</th>\n",
       "      <td>LemonChiffon</td>\n",
       "      <td>33.110205</td>\n",
       "      <td>11.982045</td>\n",
       "      <td>35.293088</td>\n",
       "      <td>3.923489</td>\n",
       "      <td>529.537665</td>\n",
       "    </tr>\n",
       "    <tr>\n",
       "      <th>259</th>\n",
       "      <td>CadetBlue</td>\n",
       "      <td>32.096109</td>\n",
       "      <td>10.804891</td>\n",
       "      <td>37.372762</td>\n",
       "      <td>2.699562</td>\n",
       "      <td>375.398455</td>\n",
       "    </tr>\n",
       "  </tbody>\n",
       "</table>\n",
       "</div>"
      ],
      "text/plain": [
       "    Customer info-color Avatar  Avg. Session Length  Time on App  \\\n",
       "389                  LightCyan            34.195508    12.664193   \n",
       "403                  OliveDrab            33.085298    13.093537   \n",
       "152             CornflowerBlue            32.510218    10.984836   \n",
       "28                LemonChiffon            33.110205    11.982045   \n",
       "259                  CadetBlue            32.096109    10.804891   \n",
       "\n",
       "     Time on Website  Length of Membership  Yearly Amount Spent  \n",
       "389        37.027150              4.330407           581.308933  \n",
       "403        38.315648              4.750360           632.123588  \n",
       "152        37.396497              5.391275           555.892595  \n",
       "28         35.293088              3.923489           529.537665  \n",
       "259        37.372762              2.699562           375.398455  "
      ]
     },
     "metadata": {},
     "execution_count": 32
    }
   ],
   "metadata": {}
  },
  {
   "cell_type": "markdown",
   "source": [
    "### c. Website Scatterplot\n",
    "\n",
    "In this task, we are asked to create a scatter plot between **Time on Website** and **Yearly Amount Spent** and report on their correlation.\n",
    "\n",
    "In order to do this, we are going to import `scipy.stats.linregress()` in order to get the correlation value and other values:"
   ],
   "metadata": {}
  },
  {
   "cell_type": "code",
   "execution_count": 33,
   "source": [
    "from scipy.stats import linregress"
   ],
   "outputs": [],
   "metadata": {}
  },
  {
   "cell_type": "markdown",
   "source": [
    "We are going to select the appropriate columns, with **Time on Website** as our x variable and **Yearly Amount Spent** as our y variable:"
   ],
   "metadata": {}
  },
  {
   "cell_type": "code",
   "execution_count": 34,
   "source": [
    "x = shop_data['Time on Website']\r\n",
    "y = shop_data['Yearly Amount Spent']"
   ],
   "outputs": [],
   "metadata": {}
  },
  {
   "cell_type": "markdown",
   "source": [
    "Next, we are using `.scatter` for a scatter plot and `.figure` to increase the figure size so that we can see the data more clearly."
   ],
   "metadata": {}
  },
  {
   "cell_type": "code",
   "execution_count": 35,
   "source": [
    "plt.figure(figsize=[12,4.5])\r\n",
    "plt.scatter(x, y, s=10)\r\n",
    "plt.xlabel('Time on Website')\r\n",
    "plt.ylabel('Yearly Amount Spent')\r\n",
    "plt.title('Scatter plot of time on website against yearly amount spent')\r\n",
    "plt.show()"
   ],
   "outputs": [
    {
     "output_type": "display_data",
     "data": {
      "image/png": "[encoded data removed]",
      "text/plain": [
       "<Figure size 864x324 with 1 Axes>"
      ]
     },
     "metadata": {
      "needs_background": "light"
     }
    }
   ],
   "metadata": {}
  },
  {
   "cell_type": "markdown",
   "source": [
    "Taking a look at the scatter plot above, we can see that there is no evident correlation between time on website and yearly amount spent, with the data points being spread everywhere."
   ],
   "metadata": {}
  },
  {
   "cell_type": "markdown",
   "source": [
    "Using `linregress()`, we return 5 values:\n",
    "\n",
    "- the **slope**,\n",
    "- the **intercept**,\n",
    "- the **r-value**,\n",
    "- the **p-value**,\n",
    "- and the **standard error**\n",
    "\n",
    "We are only interested in the r-value for now, which is the correlation value:"
   ],
   "metadata": {}
  },
  {
   "cell_type": "code",
   "execution_count": 36,
   "source": [
    "slope, intercept, r_value, p_value, std_err = linregress(x,y)\r\n",
    "r_value"
   ],
   "outputs": [
    {
     "output_type": "execute_result",
     "data": {
      "text/plain": [
       "-0.00264084471796325"
      ]
     },
     "metadata": {},
     "execution_count": 36
    }
   ],
   "metadata": {}
  },
  {
   "cell_type": "markdown",
   "source": [
    "As we can see by the **r_value = -0.003**, there is a very slight negative correlation between time spent on the website and the yearly amount spent. However, it is very close to 0, that it is almost negligible."
   ],
   "metadata": {}
  },
  {
   "cell_type": "markdown",
   "source": [
    "### d. App Scatter Plot\n",
    "\n",
    "In this task, we are asked to create a scatter plot between **Time on App** and **Yearly Amount Spent** and report on their correlation.\n",
    "\n",
    "First, we are going to select the appropriate columns, with **Time on App** as our x variable and **Yearly Amount Spent** as our y variable:"
   ],
   "metadata": {}
  },
  {
   "cell_type": "code",
   "execution_count": 37,
   "source": [
    "x = shop_data['Time on App']\n",
    "y = shop_data['Yearly Amount Spent']"
   ],
   "outputs": [],
   "metadata": {}
  },
  {
   "cell_type": "markdown",
   "source": [
    "Next, we are using `.scatter` to create a scatter plot of the data:"
   ],
   "metadata": {}
  },
  {
   "cell_type": "code",
   "execution_count": 38,
   "source": [
    "plt.figure(figsize=[12,4.5])\n",
    "plt.scatter(x, y, s=10)\n",
    "plt.xlabel('Time on App')\n",
    "plt.ylabel('Yearly Amount Spent')\n",
    "plt.title('Scatter plot of time on app against yearly amount spent')\n",
    "plt.show()"
   ],
   "outputs": [
    {
     "output_type": "display_data",
     "data": {
      "image/png": "[encoded data removed]",
      "text/plain": [
       "<Figure size 864x324 with 1 Axes>"
      ]
     },
     "metadata": {
      "needs_background": "light"
     }
    }
   ],
   "metadata": {}
  },
  {
   "cell_type": "markdown",
   "source": [
    "As we can see from the graph above, there appears to be a positive correlation between **Time on App** and **Yearly Amount Spent**. Therefore, as the customer spends more time on the app, they are likely to spend more on a yearly basis.\n",
    "\n",
    "Using `linregress()`, we are obtaining the correlation value **r_value**:"
   ],
   "metadata": {}
  },
  {
   "cell_type": "code",
   "execution_count": 39,
   "source": [
    "slope, intercept, r_value, p_value, std_err = linregress(x,y)\n",
    "r_value"
   ],
   "outputs": [
    {
     "output_type": "execute_result",
     "data": {
      "text/plain": [
       "0.49932777005983486"
      ]
     },
     "metadata": {},
     "execution_count": 39
    }
   ],
   "metadata": {}
  },
  {
   "cell_type": "markdown",
   "source": [
    "As we can see, the correlation value between **Time on App** and **Yearly Amount Spent** is about **0.5**. As the correlation value lies between -1 and 1, this is a relatively large positive correlation. Therefore, as the customer spends more time on the mobile, they are expected\n",
    "\n",
    "Comparing this correlation with part c., it appears that the amount of time a customer spends on the mobile app affects the amount they spend yearly more compared to the time they spend on the website.\n",
    "\n",
    "## 2. Supervised Learning\n",
    "\n",
    "### a. Separation of Features and Label\n",
    "The **label** in this dataset is `Yearly Amount Spent`, as we are trying to identify how the features affect the amount a customer spends yearly.\n",
    "\n",
    "The **features** in this dataset are:\n",
    "\n",
    "- `Time on App`; the amount of time the customer has spent on the mobile app\n",
    "- `Time on Website`; the amount of time the customer has spent on the website\n",
    "\n",
    "\n",
    "### b. Splitting the data\n",
    "\n",
    "In this task, we are going to split our data into a training dataset containing 70% of `loan_data` and a testing dataset containing the remaining 30%. \n",
    "\n",
    "We start off by using `.columns` to take a look at our dataset's columns: "
   ],
   "metadata": {}
  },
  {
   "cell_type": "code",
   "execution_count": 40,
   "source": [
    "shop_data.columns"
   ],
   "outputs": [
    {
     "output_type": "execute_result",
     "data": {
      "text/plain": [
       "Index(['Customer info-color Avatar', 'Avg. Session Length', 'Time on App',\n",
       "       'Time on Website', 'Length of Membership', 'Yearly Amount Spent'],\n",
       "      dtype='object')"
      ]
     },
     "metadata": {},
     "execution_count": 40
    }
   ],
   "metadata": {}
  },
  {
   "cell_type": "markdown",
   "source": [
    "Using `.iloc`, we are selecting the appropriate columns for the x and y variables:"
   ],
   "metadata": {}
  },
  {
   "cell_type": "code",
   "execution_count": 41,
   "source": [
    "X = shop_data.iloc[:, [2, 3]].values\n",
    "X"
   ],
   "outputs": [
    {
     "output_type": "execute_result",
     "data": {
      "text/plain": [
       "array([[12.65565115, 39.57766802],\n",
       "       [11.10946073, 37.26895887],\n",
       "       [11.33027806, 37.11059744],\n",
       "       [13.71751367, 36.72128268],\n",
       "       [12.79518855, 37.5366533 ],\n",
       "       [12.02692534, 34.47687763],\n",
       "       [11.36634831, 36.68377615],\n",
       "       [12.35195897, 37.37335886],\n",
       "       [13.38623528, 37.53449734],\n",
       "       [11.81412829, 37.14516822],\n",
       "       [13.33897545, 37.22580613],\n",
       "       [11.584783  , 37.08792607],\n",
       "       [10.9612984 , 37.42021558],\n",
       "       [12.95922609, 36.1446667 ],\n",
       "       [13.14872569, 36.61995708],\n",
       "       [12.63660605, 36.21376309],\n",
       "       [11.73386169, 34.89409275],\n",
       "       [12.01319469, 38.38513659],\n",
       "       [14.71538754, 38.24411459],\n",
       "       [13.98959256, 37.1905038 ],\n",
       "       [11.36549203, 37.60779252],\n",
       "       [12.8779837 , 37.44102134],\n",
       "       [13.37856278, 38.73400629],\n",
       "       [11.65757592, 36.77260376],\n",
       "       [12.8936695 , 37.63575588],\n",
       "       [11.76581265, 37.73852495],\n",
       "       [12.78389178, 36.43064962],\n",
       "       [13.00781942, 37.85177917],\n",
       "       [11.98204499, 35.29308775],\n",
       "       [11.96502   , 37.27781174],\n",
       "       [12.30541781, 36.16364817],\n",
       "       [10.86916381, 35.62244242],\n",
       "       [13.38749211, 35.69417499],\n",
       "       [13.10450724, 38.87804051],\n",
       "       [11.63489325, 35.36862633],\n",
       "       [11.9363865 , 38.768641  ],\n",
       "       [11.7550237 , 36.76572236],\n",
       "       [11.98441752, 37.0443614 ],\n",
       "       [ 9.95497597, 37.38831487],\n",
       "       [12.48901322, 36.37147981],\n",
       "       [11.73310622, 37.53429101],\n",
       "       [10.63456132, 37.49669015],\n",
       "       [12.50752537, 37.14286198],\n",
       "       [11.52987821, 36.88808605],\n",
       "       [13.41493474, 36.11243501],\n",
       "       [12.17052542, 39.13109673],\n",
       "       [13.14655143, 37.33544589],\n",
       "       [12.98851015, 36.46200326],\n",
       "       [11.86412636, 36.58272777],\n",
       "       [11.39806419, 36.5944567 ],\n",
       "       [13.85806246, 37.78026469],\n",
       "       [10.95679097, 37.26687826],\n",
       "       [10.32011626, 37.4534051 ],\n",
       "       [ 9.9845144 , 35.9334493 ],\n",
       "       [12.64519514, 38.46832111],\n",
       "       [11.58865542, 35.25224202],\n",
       "       [13.76153285, 39.25293095],\n",
       "       [10.56829469, 36.17312563],\n",
       "       [11.83228622, 36.81401056],\n",
       "       [12.06415663, 37.27122169],\n",
       "       [12.4955916 , 38.05260975],\n",
       "       [ 9.60731469, 36.49399255],\n",
       "       [13.72862718, 37.99702801],\n",
       "       [11.67006592, 37.40874848],\n",
       "       [13.27631301, 36.60077705],\n",
       "       [15.12699429, 37.15762409],\n",
       "       [12.69578975, 35.35844431],\n",
       "       [11.83547609, 36.37506611],\n",
       "       [11.30623234, 37.68040323],\n",
       "       [11.18753891, 40.00518164],\n",
       "       [11.88749413, 36.2650007 ],\n",
       "       [12.22893471, 36.15719115],\n",
       "       [10.67465347, 38.00658318],\n",
       "       [12.81711309, 37.03153922],\n",
       "       [13.58780608, 38.26035344],\n",
       "       [12.23805735, 38.73086174],\n",
       "       [11.55182117, 36.62883429],\n",
       "       [11.43337993, 35.89243163],\n",
       "       [10.88956686, 38.21257083],\n",
       "       [11.92884209, 36.91463331],\n",
       "       [12.59567131, 39.60037647],\n",
       "       [10.94725858, 35.88399439],\n",
       "       [13.89808199, 37.05891282],\n",
       "       [10.87555955, 37.78114256],\n",
       "       [10.3380727 , 36.15725594],\n",
       "       [11.63466822, 36.18253928],\n",
       "       [12.51766629, 37.15192066],\n",
       "       [10.60772387, 36.81909551],\n",
       "       [12.8288934 , 36.95161668],\n",
       "       [12.06881608, 36.1050005 ],\n",
       "       [12.53035737, 37.8752191 ],\n",
       "       [13.5162843 , 36.77312349],\n",
       "       [11.66226343, 36.05024078],\n",
       "       [13.66474788, 37.72438616],\n",
       "       [11.83023109, 36.6338567 ],\n",
       "       [13.29114305, 38.63362565],\n",
       "       [11.94234087, 38.06341359],\n",
       "       [13.34991294, 37.82739423],\n",
       "       [12.02011209, 39.07440021],\n",
       "       [12.08409173, 35.89035796],\n",
       "       [13.41075918, 35.99048895],\n",
       "       [11.28193107, 37.38531755],\n",
       "       [11.44890154, 37.58019043],\n",
       "       [12.59542035, 36.2620318 ],\n",
       "       [10.99422392, 38.07445242],\n",
       "       [13.08550576, 35.84582711],\n",
       "       [12.19047429, 36.15246209],\n",
       "       [10.71914974, 37.71250864],\n",
       "       [12.93155027, 38.16643556],\n",
       "       [13.45212896, 38.50300885],\n",
       "       [12.14937549, 37.32533422],\n",
       "       [12.17833133, 37.71598618],\n",
       "       [11.01048213, 38.41504158],\n",
       "       [11.60253219, 37.30968877],\n",
       "       [12.73221159, 35.60082055],\n",
       "       [11.22336889, 37.69230086],\n",
       "       [12.01102188, 36.70105232],\n",
       "       [11.7259101 , 35.9990993 ],\n",
       "       [12.08930957, 38.3099079 ],\n",
       "       [13.06863858, 37.54052036],\n",
       "       [12.85499037, 35.00748226],\n",
       "       [11.56402237, 37.67321037],\n",
       "       [11.1133299 , 37.38794554],\n",
       "       [12.80988347, 36.54966799],\n",
       "       [11.76117233, 37.57016384],\n",
       "       [12.57989417, 37.09326487],\n",
       "       [11.95792306, 36.63465233],\n",
       "       [10.65179378, 37.14600653],\n",
       "       [12.75207661, 36.71413784],\n",
       "       [11.54083244, 37.52642103],\n",
       "       [11.92439492, 37.24503247],\n",
       "       [12.42413041, 38.94882503],\n",
       "       [11.81058676, 37.41413357],\n",
       "       [12.75916898, 36.59911235],\n",
       "       [11.85189083, 37.42454792],\n",
       "       [12.70368793, 36.10091445],\n",
       "       [12.21525242, 36.59436168],\n",
       "       [11.281445  , 36.49440648],\n",
       "       [10.73536292, 37.45837473],\n",
       "       [10.96313178, 37.32728269],\n",
       "       [11.73509455, 36.59937399],\n",
       "       [12.41896198, 35.97765171],\n",
       "       [10.53730754, 35.7305524 ],\n",
       "       [11.9192424 , 39.29404346],\n",
       "       [11.91141556, 38.2747022 ],\n",
       "       [12.488067  , 36.51838359],\n",
       "       [12.38069498, 37.23200331],\n",
       "       [10.48050683, 37.33866962],\n",
       "       [12.29651768, 36.95155521],\n",
       "       [10.8616042 , 36.58443762],\n",
       "       [10.71635514, 38.30720401],\n",
       "       [12.38718417, 37.4311591 ],\n",
       "       [10.98483589, 37.39649748],\n",
       "       [12.96576148, 36.9663889 ],\n",
       "       [12.05026723, 36.95964319],\n",
       "       [13.45772494, 37.23880567],\n",
       "       [12.44304789, 37.32784804],\n",
       "       [12.20729849, 33.91384725],\n",
       "       [11.58631953, 39.09462703],\n",
       "       [11.37808709, 38.30447119],\n",
       "       [12.3643416 , 38.03910939],\n",
       "       [12.39943608, 35.01280603],\n",
       "       [12.54248105, 38.3113649 ],\n",
       "       [13.28043224, 36.93615938],\n",
       "       [11.79588668, 37.65861691],\n",
       "       [12.71803917, 37.66110668],\n",
       "       [12.03964784, 38.92408705],\n",
       "       [12.47445545, 35.03785616],\n",
       "       [13.16002004, 36.40774745],\n",
       "       [11.05232365, 37.63300942],\n",
       "       [10.63676108, 37.57883524],\n",
       "       [13.44340599, 36.87831537],\n",
       "       [13.28303287, 35.90729843],\n",
       "       [11.7477317 , 36.93988205],\n",
       "       [10.85960853, 38.83567008],\n",
       "       [11.69168613, 37.48091198],\n",
       "       [11.54876144, 38.57651555],\n",
       "       [11.72400223, 36.81385766],\n",
       "       [12.17857308, 35.67425603],\n",
       "       [12.31984506, 37.81915511],\n",
       "       [11.08436084, 37.95968432],\n",
       "       [13.17777453, 38.85604171],\n",
       "       [12.83280284, 37.67924462],\n",
       "       [11.509048  , 37.25305774],\n",
       "       [11.85766344, 36.08693433],\n",
       "       [12.29336584, 37.0646212 ],\n",
       "       [10.93325228, 36.54550623],\n",
       "       [13.33283928, 37.96439033],\n",
       "       [10.90255623, 36.09424195],\n",
       "       [12.27698171, 38.23260623],\n",
       "       [12.03880824, 37.63529941],\n",
       "       [11.72447386, 37.1531516 ],\n",
       "       [11.2026699 , 35.49396408],\n",
       "       [13.37806333, 36.33780003],\n",
       "       [11.38861262, 37.90913872],\n",
       "       [10.77107406, 37.27863979],\n",
       "       [11.81857176, 37.10203133],\n",
       "       [13.80879868, 37.42676892],\n",
       "       [11.65983284, 37.28139283],\n",
       "       [13.10010954, 35.90772143],\n",
       "       [13.06789568, 36.67822227],\n",
       "       [12.49432293, 36.04545942],\n",
       "       [11.34003593, 37.03951365],\n",
       "       [11.19966096, 38.6887091 ],\n",
       "       [11.33248778, 35.4598628 ],\n",
       "       [13.9194944 , 37.95201319],\n",
       "       [11.03135834, 38.25297827],\n",
       "       [11.08458409, 36.77601658],\n",
       "       [10.54264542, 35.5338635 ],\n",
       "       [11.79779551, 37.7773658 ],\n",
       "       [12.44261655, 38.13171203],\n",
       "       [12.10454243, 36.05964598],\n",
       "       [12.37849022, 38.76429717],\n",
       "       [13.72245368, 35.77311639],\n",
       "       [12.72590932, 36.5446641 ],\n",
       "       [13.6851189 , 34.89198327],\n",
       "       [10.01258337, 38.35495987],\n",
       "       [11.43553387, 36.22355746],\n",
       "       [12.35460708, 37.12234521],\n",
       "       [10.74853366, 35.73870747],\n",
       "       [11.59187167, 37.7436197 ],\n",
       "       [11.23650676, 37.67502073],\n",
       "       [11.10945633, 38.58585476],\n",
       "       [12.11494496, 36.28872395],\n",
       "       [11.86648121, 37.71777057],\n",
       "       [10.25654903, 36.14390846],\n",
       "       [12.16859647, 37.07361617],\n",
       "       [13.08535689, 37.6056528 ],\n",
       "       [13.01337563, 36.65127792],\n",
       "       [10.98397673, 37.95148946],\n",
       "       [13.10515852, 35.57484167],\n",
       "       [12.14474854, 37.25803146],\n",
       "       [13.90991551, 37.79223754],\n",
       "       [11.39520943, 37.33281446],\n",
       "       [13.03356618, 37.07679516],\n",
       "       [11.62277717, 35.96889569],\n",
       "       [12.6007504 , 37.37011822],\n",
       "       [13.18791099, 37.06708997],\n",
       "       [13.26676035, 36.9711951 ],\n",
       "       [11.75234317, 38.57360523],\n",
       "       [11.56811634, 36.90937821],\n",
       "       [12.63857212, 36.09722093],\n",
       "       [11.38864458, 39.08156475],\n",
       "       [11.8229833 , 36.94612578],\n",
       "       [12.72567737, 35.96566746],\n",
       "       [11.20115977, 37.68933698],\n",
       "       [11.34726361, 36.32365247],\n",
       "       [14.22097911, 37.52319665],\n",
       "       [11.54627576, 36.94795369],\n",
       "       [11.91763618, 36.84473382],\n",
       "       [12.27605698, 37.19279353],\n",
       "       [10.13171246, 34.84561239],\n",
       "       [12.02694222, 36.13389429],\n",
       "       [13.1722875 , 36.19975347],\n",
       "       [12.32629139, 36.67387836],\n",
       "       [13.89131342, 39.22071295],\n",
       "       [12.93092854, 36.3602472 ],\n",
       "       [11.37925718, 36.63610412],\n",
       "       [14.06938234, 38.99332245],\n",
       "       [10.80489056, 37.37276215],\n",
       "       [14.42649105, 37.3741835 ],\n",
       "       [13.04124459, 36.65520808],\n",
       "       [11.7397438 , 36.85481082],\n",
       "       [12.49105874, 38.23894085],\n",
       "       [12.89237451, 36.5273883 ],\n",
       "       [11.66886651, 37.34126616],\n",
       "       [11.77777204, 37.97982686],\n",
       "       [12.13879388, 36.85388246],\n",
       "       [12.22296745, 36.82275323],\n",
       "       [13.4023319 , 37.29204471],\n",
       "       [12.95627661, 38.65509454],\n",
       "       [12.88412462, 36.22604169],\n",
       "       [13.3254691 , 36.76860309],\n",
       "       [12.15858523, 36.57513378],\n",
       "       [11.22654566, 35.66993517],\n",
       "       [12.46113544, 37.74560774],\n",
       "       [ 9.84612491, 36.87631323],\n",
       "       [13.32541219, 36.89729461],\n",
       "       [13.67724584, 37.7446997 ],\n",
       "       [11.64496955, 37.02687697],\n",
       "       [13.48500899, 37.55088041],\n",
       "       [11.62099651, 38.41946853],\n",
       "       [13.01445915, 37.78903635],\n",
       "       [11.46698422, 35.67572763],\n",
       "       [11.68490419, 38.7170763 ],\n",
       "       [12.09396636, 36.62077386],\n",
       "       [14.32565494, 35.72182733],\n",
       "       [12.91484663, 39.06886445],\n",
       "       [ 9.82440177, 35.74277913],\n",
       "       [12.80775183, 38.55103029],\n",
       "       [13.05827793, 37.26387556],\n",
       "       [10.5345535 , 37.03479129],\n",
       "       [11.14343308, 35.94639915],\n",
       "       [10.98280553, 34.81063145],\n",
       "       [11.15396605, 37.24032955],\n",
       "       [11.94717532, 36.19083324],\n",
       "       [11.470565  , 37.06168877],\n",
       "       [11.03785041, 38.61733445],\n",
       "       [11.1673569 , 35.62658733],\n",
       "       [11.56293625, 35.97656497],\n",
       "       [12.22772828, 36.98591348],\n",
       "       [13.18681287, 38.0669296 ],\n",
       "       [13.39445179, 37.80697767],\n",
       "       [11.85139874, 36.92504304],\n",
       "       [12.26650384, 36.57503098],\n",
       "       [13.45922229, 36.33952101],\n",
       "       [11.79297182, 36.25781912],\n",
       "       [10.98574015, 37.36839124],\n",
       "       [12.63755716, 36.51708576],\n",
       "       [ 8.50815218, 35.46240008],\n",
       "       [11.65659203, 36.54860515],\n",
       "       [11.96689808, 36.54759628],\n",
       "       [11.80298578, 36.31576315],\n",
       "       [12.67740144, 35.62253059],\n",
       "       [13.03253498, 37.87095205],\n",
       "       [12.44761745, 37.53453024],\n",
       "       [12.23565925, 37.27757338],\n",
       "       [10.97316208, 36.60950715],\n",
       "       [13.66576979, 36.90022076],\n",
       "       [13.39112018, 37.19419105],\n",
       "       [12.96832561, 38.29611037],\n",
       "       [12.96889313, 37.33310742],\n",
       "       [10.73213134, 36.14579171],\n",
       "       [10.95235338, 37.64629179],\n",
       "       [12.60888879, 37.22939452],\n",
       "       [13.03951103, 36.31272657],\n",
       "       [10.99968366, 38.44276669],\n",
       "       [13.27895623, 37.38718053],\n",
       "       [10.62794923, 38.04031367],\n",
       "       [13.18518117, 35.92159519],\n",
       "       [11.35104901, 37.08884658],\n",
       "       [12.95481145, 37.10881638],\n",
       "       [11.73704064, 37.93518905],\n",
       "       [11.8873453 , 35.86244708],\n",
       "       [10.75713093, 36.59586795],\n",
       "       [11.61265077, 39.2488039 ],\n",
       "       [11.97906148, 38.26906069],\n",
       "       [12.46114744, 37.42899737],\n",
       "       [10.07946345, 38.07066426],\n",
       "       [12.58924056, 37.33224075],\n",
       "       [14.28801459, 36.77386137],\n",
       "       [11.9171157 , 37.76668677],\n",
       "       [11.40964462, 35.77778217],\n",
       "       [12.81539265, 37.95780983],\n",
       "       [11.67322925, 37.84065508],\n",
       "       [10.61053652, 37.97738874],\n",
       "       [12.50654819, 35.82346667],\n",
       "       [11.30446231, 37.83397173],\n",
       "       [10.88692118, 34.89782769],\n",
       "       [12.09588949, 36.37750903],\n",
       "       [12.69266143, 37.33359061],\n",
       "       [11.38677555, 38.19748325],\n",
       "       [10.72841854, 36.88119241],\n",
       "       [11.93689516, 35.90025278],\n",
       "       [12.7179951 , 35.12882235],\n",
       "       [10.96980287, 35.97457811],\n",
       "       [13.42054574, 37.7636904 ],\n",
       "       [11.85468192, 37.49189221],\n",
       "       [11.91885971, 35.71626916],\n",
       "       [13.14966956, 37.6504002 ],\n",
       "       [12.6853939 , 36.04898625],\n",
       "       [10.34787695, 39.0451557 ],\n",
       "       [ 9.3162892 , 36.91495155],\n",
       "       [12.58154773, 35.4442647 ],\n",
       "       [11.76444759, 37.92270381],\n",
       "       [12.64420212, 38.00182747],\n",
       "       [11.83211223, 36.84149164],\n",
       "       [10.44123506, 35.9389625 ],\n",
       "       [12.72971951, 36.2321098 ],\n",
       "       [ 9.47777761, 37.90601452],\n",
       "       [10.16317906, 37.76304108],\n",
       "       [11.60899794, 38.11045691],\n",
       "       [11.26825923, 36.95696543],\n",
       "       [11.16315954, 37.08831936],\n",
       "       [10.1016322 , 38.04345265],\n",
       "       [12.76153128, 36.90818962],\n",
       "       [12.05534016, 37.68546549],\n",
       "       [11.93593497, 35.78392374],\n",
       "       [12.45120001, 36.66579137],\n",
       "       [12.28446707, 38.29572526],\n",
       "       [12.78217179, 35.55077227],\n",
       "       [12.96030713, 37.95194632],\n",
       "       [ 9.95399501, 37.34573893],\n",
       "       [13.13002166, 35.42933439],\n",
       "       [11.52056679, 36.1891318 ],\n",
       "       [10.97255431, 34.57402759],\n",
       "       [13.53191346, 38.95246252],\n",
       "       [12.03950237, 34.48718475],\n",
       "       [10.94206962, 36.1704942 ],\n",
       "       [12.66419262, 37.02715036],\n",
       "       [11.73066139, 36.88214908],\n",
       "       [11.91867031, 37.31770495],\n",
       "       [11.51494907, 37.1280395 ],\n",
       "       [12.4181132 , 36.1553362 ],\n",
       "       [13.88727541, 38.38195597],\n",
       "       [12.84649907, 37.86921694],\n",
       "       [10.88982828, 35.56543624],\n",
       "       [12.91457009, 36.04620352],\n",
       "       [11.56852664, 38.91874854],\n",
       "       [11.97175079, 37.19936753],\n",
       "       [13.07869244, 37.32981863],\n",
       "       [11.95642648, 36.51734612],\n",
       "       [13.25273709, 37.30596142],\n",
       "       [13.09353728, 38.31564796],\n",
       "       [12.52747174, 36.68836654],\n",
       "       [11.23596895, 37.05261631],\n",
       "       [12.07483017, 35.56917032],\n",
       "       [12.04533198, 38.50588333],\n",
       "       [11.23074331, 36.99529017],\n",
       "       [11.9078441 , 35.18912244],\n",
       "       [13.05221039, 38.7756653 ],\n",
       "       [13.00436201, 36.98504142],\n",
       "       [11.52352268, 35.93804523],\n",
       "       [10.31471792, 36.7290294 ],\n",
       "       [12.43312853, 37.6269068 ],\n",
       "       [10.74518855, 38.79123469],\n",
       "       [11.01675564, 37.63731096],\n",
       "       [12.21685469, 36.9539597 ],\n",
       "       [12.32914702, 37.07437107],\n",
       "       [10.80696607, 36.01231723],\n",
       "       [12.1351014 , 37.14209369],\n",
       "       [12.94155573, 36.72527683],\n",
       "       [13.30029936, 36.39368386],\n",
       "       [10.39845771, 36.683393  ],\n",
       "       [11.88780042, 37.86144726],\n",
       "       [11.5914397 , 36.45689841],\n",
       "       [13.27147504, 37.23984661],\n",
       "       [12.9882206 , 39.67259096],\n",
       "       [14.03986726, 37.02226899],\n",
       "       [11.90650776, 38.42286529],\n",
       "       [11.1371403 , 38.40137369],\n",
       "       [12.90266489, 36.61119878],\n",
       "       [12.38651626, 35.63211222],\n",
       "       [11.82272175, 36.30854529],\n",
       "       [10.98576379, 36.35250277],\n",
       "       [14.13289346, 37.02347924],\n",
       "       [11.91221048, 36.08964366],\n",
       "       [11.48158715, 39.24096484],\n",
       "       [10.04731474, 37.18144731],\n",
       "       [12.42873693, 37.30536188],\n",
       "       [11.96598027, 36.83153585],\n",
       "       [11.12136606, 36.97937237],\n",
       "       [ 8.66834952, 35.90675637],\n",
       "       [12.50421981, 37.64583879],\n",
       "       [12.13250911, 35.45679815],\n",
       "       [11.73299146, 35.63395395],\n",
       "       [11.94659088, 36.48632507],\n",
       "       [12.55610762, 37.80550943],\n",
       "       [12.48070152, 37.68028761],\n",
       "       [12.59419407, 37.68387537],\n",
       "       [10.94684194, 37.64780806],\n",
       "       [11.48419869, 36.83936583],\n",
       "       [11.12087087, 36.80837606],\n",
       "       [10.97139243, 37.72236711],\n",
       "       [11.58894858, 36.32214092],\n",
       "       [10.70664152, 35.7661535 ],\n",
       "       [11.07625934, 34.7797505 ],\n",
       "       [12.95326254, 37.03427958],\n",
       "       [10.5724666 , 36.86218335],\n",
       "       [11.65803681, 37.42527868],\n",
       "       [13.59251266, 36.83865679],\n",
       "       [11.37176736, 35.26149812],\n",
       "       [11.23341495, 37.21115258],\n",
       "       [10.29035077, 36.92976156],\n",
       "       [14.12178384, 38.40632901],\n",
       "       [12.41554196, 37.67232248],\n",
       "       [10.77024892, 34.64980005],\n",
       "       [12.66439052, 36.36684325],\n",
       "       [12.66780888, 37.48704925],\n",
       "       [13.97018107, 36.67395274],\n",
       "       [11.50925345, 36.59928909],\n",
       "       [11.40577045, 36.37827101],\n",
       "       [12.26371768, 38.86023443],\n",
       "       [12.7107013 , 36.16646339],\n",
       "       [13.47157767, 37.0716432 ],\n",
       "       [11.18680872, 36.29889308],\n",
       "       [11.24681261, 38.68258378],\n",
       "       [12.35763811, 36.16604163],\n",
       "       [11.76432596, 36.87502581],\n",
       "       [11.7618838 , 38.1265198 ],\n",
       "       [11.55030011, 35.76932963],\n",
       "       [12.48266992, 35.53602453],\n",
       "       [11.73136429, 36.07455114],\n",
       "       [12.21407375, 37.19842782],\n",
       "       [11.90375668, 36.8745436 ],\n",
       "       [12.22248394, 36.35523488],\n",
       "       [12.00591637, 36.53409567],\n",
       "       [11.91374515, 36.0586476 ],\n",
       "       [12.12540197, 38.18776368],\n",
       "       [11.30555143, 37.13312676],\n",
       "       [11.60899707, 37.68487728],\n",
       "       [11.6930582 , 36.81293413],\n",
       "       [11.20156988, 37.83544773],\n",
       "       [12.62543264, 35.53914243],\n",
       "       [13.35063168, 37.96597162],\n",
       "       [13.56615961, 36.4179848 ],\n",
       "       [11.69573629, 37.19026771],\n",
       "       [11.49940906, 38.33257633],\n",
       "       [12.39142299, 36.84008573],\n",
       "       [12.41880832, 35.77101619]])"
      ]
     },
     "metadata": {},
     "execution_count": 41
    }
   ],
   "metadata": {}
  },
  {
   "cell_type": "code",
   "execution_count": 42,
   "source": [
    "y = shop_data.iloc[:, 5].values\n",
    "y"
   ],
   "outputs": [
    {
     "output_type": "execute_result",
     "data": {
      "text/plain": [
       "array([587.951054 , 392.2049334, 487.5475049, 581.852344 , 599.406092 ,\n",
       "       637.1024479, 521.5721748, 549.9041461, 570.200409 , 427.1993849,\n",
       "       492.6060127, 522.3374046, 408.6403511, 573.4158673, 470.4527333,\n",
       "       461.7807422, 457.8476959, 407.7045475, 452.3156755, 605.0610388,\n",
       "       534.7057438, 419.9387748, 436.5156057, 519.3409891, 700.9170916,\n",
       "       423.1799917, 619.8956399, 486.8389348, 529.5376653, 554.7220838,\n",
       "       497.5866713, 447.6879065, 588.7126055, 491.0732237, 507.4418323,\n",
       "       521.8835732, 347.7769266, 490.7386321, 478.1703341, 537.8461953,\n",
       "       532.7517876, 501.8744303, 591.1971782, 547.2443434, 448.2298292,\n",
       "       549.8605905, 593.915003 , 563.6728734, 479.7319491, 416.3583536,\n",
       "       725.5848141, 442.6672517, 384.6265716, 451.4574469, 522.4041413,\n",
       "       483.673308 , 520.8987945, 453.1695024, 496.6507081, 547.3651406,\n",
       "       616.851523 , 507.212569 , 613.5993234, 483.1597208, 540.2634004,\n",
       "       765.5184619, 553.6015347, 469.3108615, 408.6201878, 451.5756852,\n",
       "       444.9665517, 595.8228367, 418.1500811, 534.7771881, 578.2416051,\n",
       "       478.7193569, 444.2859075, 544.7798637, 488.7860611, 475.7590678,\n",
       "       489.812488 , 462.8976362, 596.4301726, 338.3198626, 533.5149353,\n",
       "       536.7718994, 487.379306 , 473.7289665, 547.1259317, 505.1133435,\n",
       "       449.0703194, 611.0000251, 515.8288149, 439.0747667, 514.0889577,\n",
       "       543.3401663, 521.1429518, 614.7153338, 507.3900618, 495.2994425,\n",
       "       518.064558 , 390.103273 , 420.7376732, 492.1050524, 410.0696111,\n",
       "       497.5136833, 494.5518611, 378.3309069, 570.4517259, 549.0082269,\n",
       "       459.2851235, 492.9450531, 424.7626355, 422.4267759, 642.1015787,\n",
       "       413.3717831, 479.2310929, 593.0772413, 506.5473071, 571.3074949,\n",
       "       576.3111774, 576.8025474, 514.2395207, 495.1759504, 514.3365583,\n",
       "       541.226584 , 516.8315567, 468.4457372, 548.2803202, 431.6177338,\n",
       "       552.9403455, 573.3062223, 452.627255 , 542.7115581, 407.8040306,\n",
       "       482.3535703, 529.2300901, 433.0487691, 476.1914133, 439.9978799,\n",
       "       448.9332932, 472.9922467, 463.923513 , 350.0582002, 460.0612774,\n",
       "       505.7711403, 463.4849954, 479.7319376, 424.1854943, 465.8893127,\n",
       "       426.775216 , 684.163431 , 555.8925954, 657.0199239, 595.8038189,\n",
       "       503.9783791, 586.1558702, 744.2218671, 512.8253581, 528.2238094,\n",
       "       468.9135013, 357.5914394, 536.4231045, 490.2066   , 550.0475806,\n",
       "       513.4505712, 497.81193  , 578.9862586, 506.5363931, 501.7492333,\n",
       "       421.9667942, 439.8912805, 666.1255917, 298.7620079, 465.1766233,\n",
       "       373.8857237, 532.7174857, 554.900783 , 537.7731625, 501.1002452,\n",
       "       517.1651356, 557.5292736, 493.719193 , 452.1226251, 577.273455 ,\n",
       "       485.9231305, 425.745092 , 537.2150527, 524.6379646, 478.8853913,\n",
       "       612.3852299, 476.7667242, 505.1196375, 545.9454921, 434.0216998,\n",
       "       424.675281 , 352.5501082, 662.9610878, 560.5601606, 467.5019004,\n",
       "       504.8704324, 590.5627196, 443.9656268, 392.4973992, 568.7175759,\n",
       "       712.3963268, 413.2959992, 562.0820454, 412.0129313, 468.6684656,\n",
       "       496.5540816, 548.5185293, 536.1308969, 558.4272572, 357.8637186,\n",
       "       529.0566632, 387.3570727, 528.9336186, 420.9161595, 496.9334463,\n",
       "       519.3729768, 591.4377356, 502.4097853, 604.3348401, 555.0683941,\n",
       "       256.6705823, 547.1109824, 461.9208769, 458.3769107, 436.2834981,\n",
       "       532.9352188, 512.5525344, 630.4227632, 463.7459811, 493.1802162,\n",
       "       501.2091727, 501.9282649, 376.3369008, 421.3266313, 538.7749335,\n",
       "       398.1634685, 571.4710341, 451.6286105, 490.6004425, 591.7810894,\n",
       "       409.0704721, 563.4460357, 647.6194557, 448.340425 , 518.7864831,\n",
       "       523.6339351, 393.857371 , 426.1545477, 503.3878873, 482.6024673,\n",
       "       524.7976276, 574.6548434, 574.7472197, 660.4251843, 375.3984554,\n",
       "       640.18774  , 514.0098178, 376.4968407, 484.5198091, 614.7296376,\n",
       "       567.4750105, 554.0030934, 399.9838716, 479.1728515, 585.9318443,\n",
       "       540.9957391, 628.0478039, 582.4919237, 640.7861664, 446.4186734,\n",
       "       570.6300981, 423.3083341, 616.660286 , 530.3624689, 442.3631174,\n",
       "       511.97986  , 560.4437922, 475.2634237, 374.2696745, 463.591418 ,\n",
       "       471.6028844, 626.0186727, 432.4720613, 356.6155679, 467.4278485,\n",
       "       503.2173931, 378.4735664, 584.2183135, 451.7278633, 557.634109 ,\n",
       "       432.7207178, 506.42386  , 510.1598173, 587.5747995, 282.4712457,\n",
       "       473.9498574, 489.9080531, 541.9722038, 266.0863409, 494.6871558,\n",
       "       689.7876042, 387.5347163, 441.8966315, 604.8413188, 302.1895478,\n",
       "       479.6148117, 506.1323424, 319.9288698, 528.309225 , 610.1280331,\n",
       "       584.105885 , 466.4211988, 404.8245289, 564.790969 , 596.516698 ,\n",
       "       368.6547849, 542.4124767, 478.2621264, 473.3604956, 559.199048 ,\n",
       "       447.1876443, 505.2300683, 557.2526867, 422.3687366, 445.0621855,\n",
       "       442.0644138, 533.0400602, 424.2028271, 498.6355985, 330.594446 ,\n",
       "       443.4418601, 478.6009159, 440.0027475, 357.7831107, 476.1392469,\n",
       "       501.1224915, 592.6884532, 486.0834255, 576.0252441, 442.7228916,\n",
       "       461.7909591, 488.3875258, 593.1564015, 392.810345 , 443.197221 ,\n",
       "       535.4807752, 533.3965538, 532.1274491, 558.9481124, 508.7719067,\n",
       "       403.7669021, 640.5840619, 461.6282784, 382.4161079, 561.8746577,\n",
       "       444.5761441, 401.0331352, 384.3260571, 527.7829958, 482.1449969,\n",
       "       594.2744834, 502.0925279, 407.6571788, 708.9351849, 531.9615505,\n",
       "       521.2407802, 447.3690272, 385.152338 , 430.5888826, 418.6027421,\n",
       "       478.9514048, 483.7965221, 538.9419745, 486.1637991, 385.0950071,\n",
       "       527.7837898, 547.1907494, 410.6029439, 583.977802 , 474.5323294,\n",
       "       414.9350607, 550.8133677, 458.7811317, 407.542168 , 581.3089329,\n",
       "       546.5566669, 503.1750852, 549.1315733, 482.8309859, 557.6082621,\n",
       "       484.8769649, 669.9871405, 547.7099886, 537.8252823, 408.2169018,\n",
       "       663.0748176, 506.3758668, 528.4193297, 632.1235881, 488.270298 ,\n",
       "       508.735741 , 411.1869636, 409.0945262, 467.8009244, 512.1658664,\n",
       "       608.2718166, 589.0264898, 444.0538266, 493.1812614, 532.7248055,\n",
       "       275.9184207, 511.0387861, 438.417742 , 475.7250679, 483.5431939,\n",
       "       663.8036933, 544.4092722, 630.1567282, 461.1122484, 491.9115051,\n",
       "       574.4156896, 530.7667187, 581.7987977, 556.2981412, 502.1327892,\n",
       "       556.1863689, 475.0716299, 486.9470538, 434.144202 , 304.1355916,\n",
       "       571.2160048, 583.0796357, 445.7498412, 392.9922559, 565.9943634,\n",
       "       499.1401524, 510.5394217, 308.5277466, 561.516532 , 423.4705332,\n",
       "       513.1531119, 529.1945189, 314.4385183, 478.584286 , 444.582165 ,\n",
       "       475.0154071, 436.7205559, 521.1953105, 478.1830597, 432.4811686,\n",
       "       438.3037078, 388.9405488, 534.7714849, 537.9157529, 407.8763782,\n",
       "       618.8459704, 502.7710746, 397.4205841, 392.2852442, 689.2356998,\n",
       "       543.1326263, 577.7360249, 436.5807403, 553.9946736, 427.3565308,\n",
       "       424.7287739, 541.049831 , 469.3831462, 444.5455497, 492.5568337,\n",
       "       535.3216101, 408.9583359, 487.5554581, 487.6462317, 402.1671222,\n",
       "       551.0230017, 497.3895578, 494.6386098, 479.2474168, 462.6565189,\n",
       "       515.5024797, 576.4776072, 357.8579836, 597.7398789, 327.3779526,\n",
       "       510.4013885, 510.5014785, 403.8195198, 627.6033187, 510.6617922,\n",
       "       573.8474377, 529.0490041, 551.6201455, 456.4695101, 497.7786422])"
      ]
     },
     "metadata": {},
     "execution_count": 42
    }
   ],
   "metadata": {}
  },
  {
   "cell_type": "markdown",
   "source": [
    "We are using `sklearn.model_selection.train_test_split` to split the data, using `test_size = 0.3`:"
   ],
   "metadata": {}
  },
  {
   "cell_type": "code",
   "execution_count": 43,
   "source": [
    "from sklearn.model_selection import train_test_split\n",
    "X_train, X_test, y_train, y_test = train_test_split(\n",
    " X, y, test_size=0.3, random_state=0\n",
    ")"
   ],
   "outputs": [],
   "metadata": {}
  },
  {
   "cell_type": "markdown",
   "source": [
    "After that, we are splitting the training and testing datasets into different arrays for testing **Time on App** and **Time on Website**:"
   ],
   "metadata": {}
  },
  {
   "cell_type": "code",
   "execution_count": 44,
   "source": [
    "X_train_app = X_train[:, np.newaxis, 0]\n",
    "X_test_app = X_test[:, np.newaxis, 0]\n",
    "\n",
    "X_train_web = X_train[:, np.newaxis, 1]\n",
    "X_test_web = X_test[:, np.newaxis, 1]"
   ],
   "outputs": [],
   "metadata": {}
  },
  {
   "cell_type": "markdown",
   "source": [
    "## 3. Regression\n",
    "\n",
    "### a. Training a Linear Regression Model\n",
    "\n",
    "In this task, we are asked to train a linear regression model and report the coefficients of the regression model. Therefore, we are training two seperate linear regressions and comparing them.\n",
    "\n",
    "#### App Linear Regression Model\n",
    "\n",
    "Using `LinearRegression`, we are fitting a model to the training data for **Time on App**:"
   ],
   "metadata": {}
  },
  {
   "cell_type": "code",
   "execution_count": 45,
   "source": [
    "from sklearn.linear_model import LinearRegression\n",
    "model_app = LinearRegression()\n",
    "model_app.fit(X_train_app, y_train)"
   ],
   "outputs": [
    {
     "output_type": "execute_result",
     "data": {
      "text/plain": [
       "LinearRegression()"
      ]
     },
     "metadata": {},
     "execution_count": 45
    }
   ],
   "metadata": {}
  },
  {
   "cell_type": "markdown",
   "source": [
    "We are going to use `.coef_` to report the coefficients, and `.intercept_` to report the intercept:"
   ],
   "metadata": {}
  },
  {
   "cell_type": "code",
   "execution_count": 46,
   "source": [
    "print('Intercept: \\n', model_app.intercept_)\n",
    "print('Coefficients: \\n', model_app.coef_)"
   ],
   "outputs": [
    {
     "output_type": "stream",
     "name": "stdout",
     "text": [
      "Intercept: \n",
      " 29.061584912835713\n",
      "Coefficients: \n",
      " [39.1629381]\n"
     ]
    }
   ],
   "metadata": {}
  },
  {
   "cell_type": "markdown",
   "source": [
    "#### Website Linear Regression Model\n",
    "\n",
    "We are using `LinearRegression` again to fit a model to the training data for **Time on Website**:"
   ],
   "metadata": {}
  },
  {
   "cell_type": "code",
   "execution_count": 47,
   "source": [
    "model_web = LinearRegression()\n",
    "model_web.fit(X_train_web, y_train)"
   ],
   "outputs": [
    {
     "output_type": "execute_result",
     "data": {
      "text/plain": [
       "LinearRegression()"
      ]
     },
     "metadata": {},
     "execution_count": 47
    }
   ],
   "metadata": {}
  },
  {
   "cell_type": "markdown",
   "source": [
    "Using `.intercept_` and `.coef_`, we are able to report the Intercept and Coefficient of the regression model:"
   ],
   "metadata": {}
  },
  {
   "cell_type": "code",
   "execution_count": 48,
   "source": [
    "print('Intercept: \\n', model_web.intercept_)\n",
    "print('Coefficients: \\n', model_web.coef_)"
   ],
   "outputs": [
    {
     "output_type": "stream",
     "name": "stdout",
     "text": [
      "Intercept: \n",
      " 560.3625431733054\n",
      "Coefficients: \n",
      " [-1.58457927]\n"
     ]
    }
   ],
   "metadata": {}
  },
  {
   "cell_type": "markdown",
   "source": [
    "#### Comparison\n",
    "\n",
    "Comparing the intercept and coefficients between the regression models of **Time on App** and **Time on Website**, we can see that:\n",
    "\n",
    "- The intercept of App is **29.06** against the intercept of Web which is **560.36**.  \n",
    "Therefore, the App Regression Model predicts that a customer will spend around **$29 yearly when they have spent 0 mins on the mobile app** whilst the Web Regression Model predicts that a customer will spend around **$560 yearly when they have spent 0 mins on the website**.\n",
    "- The coefficient of App is **39.16** against the coefficient of Web which is **-1.58**.  \n",
    "Therefore, the App Regression Model predicts that **every minute the customer spends on the mobile app will increase the amount they spend yearly by around $39** whilst the Web Regression Model predicts that **every minute will decrease yearly amount spent by $1.58**.\n",
    "\n",
    "### b.i. Prediction\n",
    "#### App Regression Model\n",
    "\n",
    "Using `.predict()`, we are going to predict the results for the testing dataset for **Time on App**:\n"
   ],
   "metadata": {}
  },
  {
   "cell_type": "code",
   "execution_count": 49,
   "source": [
    "y_pred_app = model_app.predict(X_test_app)"
   ],
   "outputs": [],
   "metadata": {}
  },
  {
   "cell_type": "markdown",
   "source": [
    "Using `.scatter()` and `.plot`, we are creating a scatter plot of the testing data and plotting the predicted values from the regression model:"
   ],
   "metadata": {}
  },
  {
   "cell_type": "code",
   "execution_count": 50,
   "source": [
    "plt.figure(figsize=[12,4.5])\n",
    "plt.scatter(X_test_app, y_test, s=10)\n",
    "plt.plot(X_test_app, y_pred_app, color = 'r')\n",
    "plt.xlabel('Time on App')\n",
    "plt.ylabel('Yearly Amount Spent')\n",
    "plt.title('Predicted Linear Regression Model for Time on App')\n",
    "plt.show()"
   ],
   "outputs": [
    {
     "output_type": "display_data",
     "data": {
      "image/png": "[encoded data removed]",
      "text/plain": [
       "<Figure size 864x324 with 1 Axes>"
      ]
     },
     "metadata": {
      "needs_background": "light"
     }
    }
   ],
   "metadata": {}
  },
  {
   "cell_type": "markdown",
   "source": [
    "#### Web Regression Model\n",
    "\n",
    "Using `.predict()`, we are going to predict the results for the testing dataset for **Time on Website**:"
   ],
   "metadata": {}
  },
  {
   "cell_type": "code",
   "execution_count": 51,
   "source": [
    "y_pred_web = model_web.predict(X_test_web)"
   ],
   "outputs": [],
   "metadata": {}
  },
  {
   "cell_type": "markdown",
   "source": [
    "Using `.scatter()` and `.plot`, we are creating a scatter plot of the testing data and plotting the predicted values from the regression model:"
   ],
   "metadata": {}
  },
  {
   "cell_type": "code",
   "execution_count": 52,
   "source": [
    "plt.figure(figsize=[12,4.5])\n",
    "plt.scatter(X_test_web, y_test, s=10)\n",
    "plt.plot(X_test_web, y_pred_web, color = 'r')\n",
    "plt.xlabel('Time on Website')\n",
    "plt.ylabel('Yearly Amount Spent')\n",
    "plt.title('Predicted Linear Regression Model for Time on Website')\n",
    "plt.show()"
   ],
   "outputs": [
    {
     "output_type": "display_data",
     "data": {
      "image/png": "[encoded data removed]",
      "text/plain": [
       "<Figure size 864x324 with 1 Axes>"
      ]
     },
     "metadata": {
      "needs_background": "light"
     }
    }
   ],
   "metadata": {}
  },
  {
   "cell_type": "markdown",
   "source": [
    "### b.ii. Accuracy Metrics\n",
    "\n",
    "Using `mean_squared_error` and `mean_absolute_error` from the `sklearn.metrics` package, we are going to report the MSE and MAE for both linear regression models."
   ],
   "metadata": {}
  },
  {
   "cell_type": "code",
   "execution_count": 53,
   "source": [
    "from sklearn.metrics import mean_squared_error\n",
    "from sklearn.metrics import mean_absolute_error"
   ],
   "outputs": [],
   "metadata": {}
  },
  {
   "cell_type": "markdown",
   "source": [
    "#### App Linear Regression Model"
   ],
   "metadata": {}
  },
  {
   "cell_type": "code",
   "execution_count": 55,
   "source": [
    "mse_app = mean_squared_error(X_test_app, y_pred_app)\n",
    "mae_app = mean_absolute_error(X_test_app, y_pred_app)\n",
    "print('Mean Squared Error: \\n', mse_app)\n",
    "print('Mean Absolute Error: \\n', mae_app)"
   ],
   "outputs": [
    {
     "output_type": "stream",
     "name": "stdout",
     "text": [
      "Mean Squared Error: \n",
      " 239359.95304028937\n",
      "Mean Absolute Error: \n",
      " 487.78085314255907\n"
     ]
    }
   ],
   "metadata": {}
  },
  {
   "cell_type": "markdown",
   "source": [
    "#### Web Linear Regression Model"
   ],
   "metadata": {}
  },
  {
   "cell_type": "code",
   "execution_count": 56,
   "source": [
    "mse_web = mean_squared_error(X_test_web, y_pred_web)\n",
    "mae_web = mean_absolute_error(X_test_web, y_pred_web)\n",
    "print('Mean Squared Error: \\n', mse_web)\n",
    "print('Mean Absolute Error: \\n', mae_web)"
   ],
   "outputs": [
    {
     "output_type": "stream",
     "name": "stdout",
     "text": [
      "Mean Squared Error: \n",
      " 215908.44404061852\n",
      "Mean Absolute Error: \n",
      " 464.6528302674726\n"
     ]
    }
   ],
   "metadata": {}
  },
  {
   "cell_type": "markdown",
   "source": [
    "## 4. Conclusion\n",
    "\n",
    "Based on the metrics obtained in 3.b.ii., the Web Linear Regression Model has a lower **mean squared error** and **mean absolute error** than the App Linear Regression Model.\n",
    "\n",
    "The MSE and MAE are used to judge the accuracy of the regression model, with MSE taking the average of the squared errors between the predicted value and actual values whilst MAE averages the weighted differences equally.  \n",
    "**The lower the value of MSE and MAE, the better the model's performance.**\n",
    "\n",
    "As the Web Linear Regression Model more accurately predicts the actual values of **Yearly Amount Spent**, the company should focus their efforts on their website."
   ],
   "metadata": {}
  }
 ],
 "metadata": {
  "interpreter": {
   "hash": "820e268b909ff42aa89616ced2f6561782d4b264fae4e8cd9fd030934e1f6caf"
  },
  "kernelspec": {
   "name": "python3",
   "display_name": "Python 3.8.8 64-bit ('base': conda)"
  },
  "language_info": {
   "codemirror_mode": {
    "name": "ipython",
    "version": 3
   },
   "file_extension": ".py",
   "mimetype": "text/x-python",
   "name": "python",
   "nbconvert_exporter": "python",
   "pygments_lexer": "ipython3",
   "version": "3.8.8"
  }
 },
 "nbformat": 4,
 "nbformat_minor": 5
}